{
 "cells": [
  {
   "cell_type": "code",
   "execution_count": 33,
   "metadata": {},
   "outputs": [
    {
     "name": "stdout",
     "output_type": "stream",
     "text": [
      "The autoreload extension is already loaded. To reload it, use:\n",
      "  %reload_ext autoreload\n",
      "The rich extension is already loaded. To reload it, use:\n",
      "  %reload_ext rich\n"
     ]
    },
    {
     "data": {
      "text/html": [
       "<pre style=\"white-space:pre;overflow-x:auto;line-height:normal;font-family:Menlo,'DejaVu Sans Mono',consolas,'Courier New',monospace\"></pre>\n"
      ],
      "text/plain": []
     },
     "metadata": {},
     "output_type": "display_data"
    },
    {
     "data": {
      "text/plain": [
       "\u001b[3;92mTrue\u001b[0m"
      ]
     },
     "execution_count": 33,
     "metadata": {},
     "output_type": "execute_result"
    }
   ],
   "source": [
    "import os\n",
    "from typing import Annotated, Optional\n",
    "\n",
    "import httpx\n",
    "import instructor\n",
    "from dotenv import find_dotenv, load_dotenv\n",
    "from models import *\n",
    "from openai import OpenAI\n",
    "from prompts import *\n",
    "from pydantic import AfterValidator, BaseModel, BeforeValidator, Field\n",
    "from rich import print\n",
    "\n",
    "%load_ext autoreload\n",
    "%autoreload 2\n",
    "\n",
    "%load_ext rich\n",
    "\n",
    "load_dotenv(find_dotenv())"
   ]
  },
  {
   "cell_type": "code",
   "execution_count": 18,
   "metadata": {},
   "outputs": [],
   "source": [
    "llm_client = instructor.patch(\n",
    "    OpenAI(\n",
    "        api_key=os.getenv(\"OPENAI_API_KEY\"),\n",
    "    ),\n",
    ")"
   ]
  },
  {
   "cell_type": "code",
   "execution_count": 50,
   "metadata": {},
   "outputs": [],
   "source": [
    "job_description = \"\"\"\n",
    "About the Role\n",
    "\n",
    "We are looking for someone who enjoys rolling up their sleeves to join our New Verticals rocketship on Drive - DoorDash’s white label fulfillment platform and product - to scale business with strategic partners, unlock accessibility to local businesses on their own terms, and launch new products and services to expand our TAM.\n",
    "\n",
    "The Associate Manager, Drive New Verticals S&O Canada, will oversee the growth, profitability and operations strategy for our Canada business.\n",
    "\n",
    "You are a first-principles thinker who is both a strategist and a builder. Reporting to the Manager of Drive Strategy and Operations Canada, you will work closely with product, engineering, sales, operations, business development and other teams to make your vision a reality.\n",
    "\n",
    "We expect this role to be hybrid with some time in-office and some time remote.\n",
    "\n",
    "You’re excited about this opportunity because you will\n",
    "• Strategize : You will develop the strategy to best serve our customers, thinking at a deeply strategic level about the success now and 5-10+ years out.\n",
    "• Operate : You want to get to the lowest level of detail, and scale. You will work directly with internal and external partners to execute on your short & long-term plans;\n",
    "\n",
    "you are a cross functional success enabler and an excellent operator.\n",
    "• Build : You will develop and lead 0 to 1 opportunities, creating the roadmap for future growth vectors and determine how to invest our resources to achieve desired outcomes.\n",
    "• Collaborate : You value partnerships, and will excel at working across Operations, Product, Sales, Engineering, and more to bring new products and services to merchants.\n",
    "\n",
    "We’re excited about you because\n",
    "• You are an owner. You display extreme ownership across every workstream while ruthlessly prioritizing what will actually move the needle\n",
    "• You solve problems from first principles. You’re excited to solve problems in innovative ways, and you resist this is how it’s always been done thinking.\n",
    "• You thrive with a diverse set of responsibilities. You love working across a breadth of disciplines and teams.\n",
    "• You’re an analytical powerhouse. You let data win arguments, and you’re comfortable pulling your own data in SQL and modeling in Excel.\n",
    "• You’re persuasive. You are an effective communicator, speaking as if you’re right and listening as if you’re wrong. You meet people on their level.\n",
    "• You act with urgency. Speed excites you. You prefer an accomplishment today to an accomplishment tomorrow.\n",
    "• You’re relentless. You do what it takes to win, no matter what.\n",
    "• You are a builder. You enjoy building from the ground up and excel in creating structure and process.You don’t need a guide.\n",
    "\n",
    "You dive into difficult problems and come up with a plan.\n",
    "\n",
    "You have 4-6 years of experience. You’ve succeeded in a competitive, challenging environment.\n",
    "\n",
    "Bonus Points\n",
    "• You have experience with and are fluent in SQL and excel.\n",
    "• You have experience in managing or supporting a complex P&L.\n",
    "• You have experience launching new partners or new products.\n",
    "• You have a demonstrated interest in logistics, on-demand services, and marketplaces.\n",
    "• You have experience in project management.\n",
    "\n",
    "Why You’ll Love Working at DoorDash\n",
    "• We are leaders - Leadership is not limited to our management team. It’s something everyone at DoorDash embraces and embodies.\n",
    "• We are doers - We believe the only way to predict the future is to build it. Creating solutions that will lead our company and our industry is what we do on every project, every day.\n",
    "• We are learners - We’re not afraid to dig in and uncover the truth, even if it’s scary or inconvenient. Everyone here is continually learning on the job, no matter if we’ve been in a role for one year or one minute.\n",
    "• We are customer-obsessed - Our mission is to grow and empower local economies. We are committed to our customers, merchants, and dashers and believe in connecting people with possibility.\n",
    "• We are all DoorDash - The magic of DoorDash is our people, together making our inspiring goals attainable and driving us to greater heights.\n",
    "• We offer great compensation packages and comprehensive health benefits\n",
    "\"\"\""
   ]
  },
  {
   "cell_type": "code",
   "execution_count": 60,
   "metadata": {},
   "outputs": [
    {
     "data": {
      "text/html": [
       "<pre style=\"white-space:pre;overflow-x:auto;line-height:normal;font-family:Menlo,'DejaVu Sans Mono',consolas,'Courier New',monospace\"></pre>\n"
      ],
      "text/plain": []
     },
     "metadata": {},
     "output_type": "display_data"
    },
    {
     "data": {
      "text/plain": [
       "\n",
       "\u001b[1;35mRequestPayload\u001b[0m\u001b[1m(\u001b[0m\n",
       "    \u001b[33mjob_description\u001b[0m=\u001b[32m'\\nAbout the Role\\n\\nWe are looking for someone who enjoys rolling up their sleeves to join our New Verticals rocketship on Drive - DoorDash’s white label fulfillment platform and product - to scale business with strategic partners, unlock accessibility to local businesses on their own terms, and launch new products and services to expand our TAM.\\n\\nThe Associate Manager, Drive New Verticals S&O Canada, will oversee the growth, profitability and operations strategy for our Canada business.\\n\\nYou are a first-principles thinker who is both a strategist and a builder. Reporting to the Manager of Drive Strategy and Operations Canada, you will work closely with product, engineering, sales, operations, business development and other teams to make your vision a reality.\\n\\nWe expect this role to be hybrid with some time in-office and some time remote.\\n\\nYou’re excited about this opportunity because you will\\n• Strategize : You will develop the strategy to best serve our customers, thinking at a deeply strategic level about the success now and 5-10+ years out.\\n• Operate : You want to get to the lowest level of detail, and scale. You will work directly with internal and external partners to execute on your short & long-term plans;\\n\\nyou are a cross functional success enabler and an excellent operator.\\n• Build : You will develop and lead 0 to 1 opportunities, creating the roadmap for future growth vectors and determine how to invest our resources to achieve desired outcomes.\\n• Collaborate : You value partnerships, and will excel at working across Operations, Product, Sales, Engineering, and more to bring new products and services to merchants.\\n\\nWe’re excited about you because\\n• You are an owner. You display extreme ownership across every workstream while ruthlessly prioritizing what will actually move the needle\\n• You solve problems from first principles. You’re excited to solve problems in innovative ways, and you resist this is how it’s always been done thinking.\\n• You thrive with a diverse set of responsibilities. You love working across a breadth of disciplines and teams.\\n• You’re an analytical powerhouse. You let data win arguments, and you’re comfortable pulling your own data in SQL and modeling in Excel.\\n• You’re persuasive. You are an effective communicator, speaking as if you’re right and listening as if you’re wrong. You meet people on their level.\\n• You act with urgency. Speed excites you. You prefer an accomplishment today to an accomplishment tomorrow.\\n• You’re relentless. You do what it takes to win, no matter what.\\n• You are a builder. You enjoy building from the ground up and excel in creating structure and process.You don’t need a guide.\\n\\nYou dive into difficult problems and come up with a plan.\\n\\nYou have 4-6 years of experience. You’ve succeeded in a competitive, challenging environment.\\n\\nBonus Points\\n• You have experience with and are fluent in SQL and excel.\\n• You have experience in managing or supporting a complex P&L.\\n• You have experience launching new partners or new products.\\n• You have a demonstrated interest in logistics, on-demand services, and marketplaces.\\n• You have experience in project management.\\n\\nWhy You’ll Love Working at DoorDash\\n• We are leaders - Leadership is not limited to our management team. It’s something everyone at DoorDash embraces and embodies.\\n• We are doers - We believe the only way to predict the future is to build it. Creating solutions that will lead our company and our industry is what we do on every project, every day.\\n• We are learners - We’re not afraid to dig in and uncover the truth, even if it’s scary or inconvenient. Everyone here is continually learning on the job, no matter if we’ve been in a role for one year or one minute.\\n• We are customer-obsessed - Our mission is to grow and empower local economies. We are committed to our customers, merchants, and dashers and believe in connecting people with possibility.\\n• We are all DoorDash - The magic of DoorDash is our people, together making our inspiring goals attainable and driving us to greater heights.\\n• We offer great compensation packages and comprehensive health benefits\\n'\u001b[0m,\n",
       "    \u001b[33mmodel\u001b[0m=\u001b[32m'gpt-4-turbo-preview'\u001b[0m\n",
       "\u001b[1m)\u001b[0m"
      ]
     },
     "execution_count": 60,
     "metadata": {},
     "output_type": "execute_result"
    }
   ],
   "source": [
    "api_ = httpx.Client(base_url=\"http://0.0.0.0:8000\", timeout=1200)\n",
    "\n",
    "\n",
    "payload = RequestPayload(job_description=job_description, model='gpt-4-turbo-preview')\n",
    "payload"
   ]
  },
  {
   "cell_type": "code",
   "execution_count": 61,
   "metadata": {},
   "outputs": [],
   "source": [
    "response = api_.post(\"/jd/\", data=payload.model_dump_json())"
   ]
  },
  {
   "cell_type": "code",
   "execution_count": 62,
   "metadata": {},
   "outputs": [
    {
     "data": {
      "text/html": [
       "<pre style=\"white-space:pre;overflow-x:auto;line-height:normal;font-family:Menlo,'DejaVu Sans Mono',consolas,'Courier New',monospace\"></pre>\n"
      ],
      "text/plain": []
     },
     "metadata": {},
     "output_type": "display_data"
    },
    {
     "data": {
      "text/plain": [
       "\n",
       "\u001b[1m{\u001b[0m\n",
       "    \u001b[32m'title'\u001b[0m: \u001b[32m'Associate Manager, Drive New Verticals S&O Canada'\u001b[0m,\n",
       "    \u001b[32m'company_information'\u001b[0m: \u001b[32m'DoorDash is a technology company that connects people with the best in their cities. We do this by empowering local businesses and in turn, generate new ways for people to earn, work and live. We started by facilitating door-to-door delivery, but we see this as just the beginning of connecting people with possibility — easier evenings, happier days, bigger savings accounts, wider nets and stronger communities.'\u001b[0m,\n",
       "    \u001b[32m'industry'\u001b[0m: \u001b[32m'Technology'\u001b[0m,\n",
       "    \u001b[32m'location'\u001b[0m: \u001b[32m'Canada'\u001b[0m,\n",
       "    \u001b[32m'job_type'\u001b[0m: \u001b[32m'Hybrid'\u001b[0m,\n",
       "    \u001b[32m'years_of_experience_required'\u001b[0m: \u001b[1;36m4\u001b[0m,\n",
       "    \u001b[32m'years_of_experience_preferred'\u001b[0m: \u001b[1;36m6\u001b[0m,\n",
       "    \u001b[32m'education'\u001b[0m: \u001b[1m[\u001b[0m\u001b[1m{\u001b[0m\u001b[32m'level'\u001b[0m: \u001b[32m'Not Specified'\u001b[0m, \u001b[32m'field_of_study'\u001b[0m: \u001b[3;35mNone\u001b[0m\u001b[1m}\u001b[0m\u001b[1m]\u001b[0m,\n",
       "    \u001b[32m'salary_range'\u001b[0m: \u001b[3;35mNone\u001b[0m,\n",
       "    \u001b[32m'responsibilities'\u001b[0m: \u001b[1m[\u001b[0m\n",
       "        \u001b[1m{\u001b[0m\u001b[32m'index'\u001b[0m: \u001b[1;36m1\u001b[0m, \u001b[32m'description'\u001b[0m: \u001b[32m'Develop strategy to best serve customers'\u001b[0m\u001b[1m}\u001b[0m,\n",
       "        \u001b[1m{\u001b[0m\n",
       "            \u001b[32m'index'\u001b[0m: \u001b[1;36m2\u001b[0m,\n",
       "            \u001b[32m'description'\u001b[0m: \u001b[32m'Work directly with internal and external partners to execute plans'\u001b[0m\n",
       "        \u001b[1m}\u001b[0m,\n",
       "        \u001b[1m{\u001b[0m\u001b[32m'index'\u001b[0m: \u001b[1;36m3\u001b[0m, \u001b[32m'description'\u001b[0m: \u001b[32m'Develop and lead 0 to 1 opportunities for future growth'\u001b[0m\u001b[1m}\u001b[0m,\n",
       "        \u001b[1m{\u001b[0m\n",
       "            \u001b[32m'index'\u001b[0m: \u001b[1;36m4\u001b[0m,\n",
       "            \u001b[32m'description'\u001b[0m: \u001b[32m'Collaborate across Operations, Product, Sales, Engineering, and more'\u001b[0m\n",
       "        \u001b[1m}\u001b[0m\n",
       "    \u001b[1m]\u001b[0m,\n",
       "    \u001b[32m'skills'\u001b[0m: \u001b[1m[\u001b[0m\n",
       "        \u001b[1m{\u001b[0m\u001b[32m'index'\u001b[0m: \u001b[1;36m1\u001b[0m, \u001b[32m'skill_type'\u001b[0m: \u001b[32m'Technical'\u001b[0m, \u001b[32m'name'\u001b[0m: \u001b[32m'SQL'\u001b[0m, \u001b[32m'proficiency_level'\u001b[0m: \u001b[32m'Fluent'\u001b[0m\u001b[1m}\u001b[0m,\n",
       "        \u001b[1m{\u001b[0m\u001b[32m'index'\u001b[0m: \u001b[1;36m2\u001b[0m, \u001b[32m'skill_type'\u001b[0m: \u001b[32m'Technical'\u001b[0m, \u001b[32m'name'\u001b[0m: \u001b[32m'Excel'\u001b[0m, \u001b[32m'proficiency_level'\u001b[0m: \u001b[32m'Fluent'\u001b[0m\u001b[1m}\u001b[0m,\n",
       "        \u001b[1m{\u001b[0m\n",
       "            \u001b[32m'index'\u001b[0m: \u001b[1;36m3\u001b[0m,\n",
       "            \u001b[32m'skill_type'\u001b[0m: \u001b[32m'Soft'\u001b[0m,\n",
       "            \u001b[32m'name'\u001b[0m: \u001b[32m'Analytical Skills'\u001b[0m,\n",
       "            \u001b[32m'proficiency_level'\u001b[0m: \u001b[32m'Advanced'\u001b[0m\n",
       "        \u001b[1m}\u001b[0m,\n",
       "        \u001b[1m{\u001b[0m\u001b[32m'index'\u001b[0m: \u001b[1;36m4\u001b[0m, \u001b[32m'skill_type'\u001b[0m: \u001b[32m'Soft'\u001b[0m, \u001b[32m'name'\u001b[0m: \u001b[32m'Communication'\u001b[0m, \u001b[32m'proficiency_level'\u001b[0m: \u001b[32m'Advanced'\u001b[0m\u001b[1m}\u001b[0m,\n",
       "        \u001b[1m{\u001b[0m\n",
       "            \u001b[32m'index'\u001b[0m: \u001b[1;36m5\u001b[0m,\n",
       "            \u001b[32m'skill_type'\u001b[0m: \u001b[32m'Soft'\u001b[0m,\n",
       "            \u001b[32m'name'\u001b[0m: \u001b[32m'Project Management'\u001b[0m,\n",
       "            \u001b[32m'proficiency_level'\u001b[0m: \u001b[32m'Intermediate'\u001b[0m\n",
       "        \u001b[1m}\u001b[0m\n",
       "    \u001b[1m]\u001b[0m,\n",
       "    \u001b[32m'qualifications_required'\u001b[0m: \u001b[1m[\u001b[0m\n",
       "        \u001b[1m{\u001b[0m\n",
       "            \u001b[32m'index'\u001b[0m: \u001b[1;36m1\u001b[0m,\n",
       "            \u001b[32m'description'\u001b[0m: \u001b[32m'4-6 years of experience in a competitive, challenging environment'\u001b[0m\n",
       "        \u001b[1m}\u001b[0m,\n",
       "        \u001b[1m{\u001b[0m\u001b[32m'index'\u001b[0m: \u001b[1;36m2\u001b[0m, \u001b[32m'description'\u001b[0m: \u001b[32m'Extreme ownership across workstreams'\u001b[0m\u001b[1m}\u001b[0m,\n",
       "        \u001b[1m{\u001b[0m\u001b[32m'index'\u001b[0m: \u001b[1;36m3\u001b[0m, \u001b[32m'description'\u001b[0m: \u001b[32m'Ability to solve problems from first principles'\u001b[0m\u001b[1m}\u001b[0m,\n",
       "        \u001b[1m{\u001b[0m\u001b[32m'index'\u001b[0m: \u001b[1;36m4\u001b[0m, \u001b[32m'description'\u001b[0m: \u001b[32m'Analytical skills with data-driven decision making'\u001b[0m\u001b[1m}\u001b[0m,\n",
       "        \u001b[1m{\u001b[0m\u001b[32m'index'\u001b[0m: \u001b[1;36m5\u001b[0m, \u001b[32m'description'\u001b[0m: \u001b[32m'Effective communication skills'\u001b[0m\u001b[1m}\u001b[0m\n",
       "    \u001b[1m]\u001b[0m,\n",
       "    \u001b[32m'qualifications_preferred'\u001b[0m: \u001b[1m[\u001b[0m\n",
       "        \u001b[1m{\u001b[0m\u001b[32m'index'\u001b[0m: \u001b[1;36m1\u001b[0m, \u001b[32m'description'\u001b[0m: \u001b[32m'Experience in managing or supporting a complex P&L'\u001b[0m\u001b[1m}\u001b[0m,\n",
       "        \u001b[1m{\u001b[0m\u001b[32m'index'\u001b[0m: \u001b[1;36m2\u001b[0m, \u001b[32m'description'\u001b[0m: \u001b[32m'Experience launching new partners or products'\u001b[0m\u001b[1m}\u001b[0m,\n",
       "        \u001b[1m{\u001b[0m\u001b[32m'index'\u001b[0m: \u001b[1;36m3\u001b[0m, \u001b[32m'description'\u001b[0m: \u001b[32m'Interest in logistics, on-demand services, and marketplaces'\u001b[0m\u001b[1m}\u001b[0m,\n",
       "        \u001b[1m{\u001b[0m\u001b[32m'index'\u001b[0m: \u001b[1;36m4\u001b[0m, \u001b[32m'description'\u001b[0m: \u001b[32m'Project management experience'\u001b[0m\u001b[1m}\u001b[0m\n",
       "    \u001b[1m]\u001b[0m,\n",
       "    \u001b[32m'experience'\u001b[0m: \u001b[1m[\u001b[0m\u001b[1m]\u001b[0m,\n",
       "    \u001b[32m'benefits'\u001b[0m: \u001b[1m[\u001b[0m\n",
       "        \u001b[1m{\u001b[0m\u001b[32m'index'\u001b[0m: \u001b[1;36m1\u001b[0m, \u001b[32m'description'\u001b[0m: \u001b[32m'Leadership opportunities'\u001b[0m\u001b[1m}\u001b[0m,\n",
       "        \u001b[1m{\u001b[0m\u001b[32m'index'\u001b[0m: \u001b[1;36m2\u001b[0m, \u001b[32m'description'\u001b[0m: \u001b[32m'Opportunity to build and create solutions'\u001b[0m\u001b[1m}\u001b[0m,\n",
       "        \u001b[1m{\u001b[0m\u001b[32m'index'\u001b[0m: \u001b[1;36m3\u001b[0m, \u001b[32m'description'\u001b[0m: \u001b[32m'Continuous learning environment'\u001b[0m\u001b[1m}\u001b[0m,\n",
       "        \u001b[1m{\u001b[0m\u001b[32m'index'\u001b[0m: \u001b[1;36m4\u001b[0m, \u001b[32m'description'\u001b[0m: \u001b[32m'Customer-obsessed culture'\u001b[0m\u001b[1m}\u001b[0m,\n",
       "        \u001b[1m{\u001b[0m\n",
       "            \u001b[32m'index'\u001b[0m: \u001b[1;36m5\u001b[0m,\n",
       "            \u001b[32m'description'\u001b[0m: \u001b[32m'Comprehensive health benefits and competitive compensation packages'\u001b[0m\n",
       "        \u001b[1m}\u001b[0m\n",
       "    \u001b[1m]\u001b[0m,\n",
       "    \u001b[32m'culture'\u001b[0m: \u001b[32m'DoorDash fosters a culture of leadership, doing, learning, and customer obsession. It values inclusivity and the collective effort of all employees, aiming for inspiring goals and driving the company to greater heights.'\u001b[0m,\n",
       "    \u001b[32m'additional_requirements'\u001b[0m: \u001b[1m[\u001b[0m\u001b[1m]\u001b[0m,\n",
       "    \u001b[32m'contact_information'\u001b[0m: \u001b[3;35mNone\u001b[0m\n",
       "\u001b[1m}\u001b[0m"
      ]
     },
     "execution_count": 62,
     "metadata": {},
     "output_type": "execute_result"
    }
   ],
   "source": [
    "response.json()"
   ]
  },
  {
   "cell_type": "markdown",
   "metadata": {},
   "source": [
    "## Extract keywords"
   ]
  },
  {
   "cell_type": "code",
   "execution_count": 63,
   "metadata": {},
   "outputs": [
    {
     "data": {
      "text/html": [
       "<pre style=\"white-space:pre;overflow-x:auto;line-height:normal;font-family:Menlo,'DejaVu Sans Mono',consolas,'Courier New',monospace\"></pre>\n"
      ],
      "text/plain": []
     },
     "metadata": {},
     "output_type": "display_data"
    },
    {
     "data": {
      "text/plain": [
       "\n",
       "\u001b[1m[\u001b[0m\n",
       "    \u001b[1m{\u001b[0m\u001b[32m'index'\u001b[0m: \u001b[1;36m1\u001b[0m, \u001b[32m'description'\u001b[0m: \u001b[32m'Develop strategy to best serve customers'\u001b[0m\u001b[1m}\u001b[0m,\n",
       "    \u001b[1m{\u001b[0m\u001b[32m'index'\u001b[0m: \u001b[1;36m2\u001b[0m, \u001b[32m'description'\u001b[0m: \u001b[32m'Work directly with internal and external partners to execute plans'\u001b[0m\u001b[1m}\u001b[0m,\n",
       "    \u001b[1m{\u001b[0m\u001b[32m'index'\u001b[0m: \u001b[1;36m3\u001b[0m, \u001b[32m'description'\u001b[0m: \u001b[32m'Develop and lead 0 to 1 opportunities for future growth'\u001b[0m\u001b[1m}\u001b[0m,\n",
       "    \u001b[1m{\u001b[0m\n",
       "        \u001b[32m'index'\u001b[0m: \u001b[1;36m4\u001b[0m,\n",
       "        \u001b[32m'description'\u001b[0m: \u001b[32m'Collaborate across Operations, Product, Sales, Engineering, and more'\u001b[0m\n",
       "    \u001b[1m}\u001b[0m\n",
       "\u001b[1m]\u001b[0m"
      ]
     },
     "execution_count": 63,
     "metadata": {},
     "output_type": "execute_result"
    }
   ],
   "source": [
    "responsibilities = response.json()['responsibilities']\n",
    "responsibilities"
   ]
  },
  {
   "cell_type": "code",
   "execution_count": 65,
   "metadata": {},
   "outputs": [],
   "source": [
    "payload_keyword = RequestPayload(\n",
    "    job_description=str(responsibilities),\n",
    "    model=\"gpt-4-turbo-preview\",\n",
    ")"
   ]
  },
  {
   "cell_type": "code",
   "execution_count": 67,
   "metadata": {},
   "outputs": [
    {
     "data": {
      "text/html": [
       "<pre style=\"white-space:pre;overflow-x:auto;line-height:normal;font-family:Menlo,'DejaVu Sans Mono',consolas,'Courier New',monospace\"></pre>\n"
      ],
      "text/plain": []
     },
     "metadata": {},
     "output_type": "display_data"
    },
    {
     "data": {
      "text/plain": [
       "\n",
       "\u001b[1m{\u001b[0m\n",
       "    \u001b[32m'keywords'\u001b[0m: \u001b[1m[\u001b[0m\n",
       "        \u001b[1m{\u001b[0m\n",
       "            \u001b[32m'keyword'\u001b[0m: \u001b[32m'strategy development'\u001b[0m,\n",
       "            \u001b[32m'source'\u001b[0m: \u001b[32m'Develop strategy to best serve customers'\u001b[0m,\n",
       "            \u001b[32m'reasoning'\u001b[0m: \u001b[32m'Shows ability to plan and strategize for customer satisfaction.'\u001b[0m\n",
       "        \u001b[1m}\u001b[0m,\n",
       "        \u001b[1m{\u001b[0m\n",
       "            \u001b[32m'keyword'\u001b[0m: \u001b[32m'customer service'\u001b[0m,\n",
       "            \u001b[32m'source'\u001b[0m: \u001b[32m'Develop strategy to best serve customers'\u001b[0m,\n",
       "            \u001b[32m'reasoning'\u001b[0m: \u001b[32m'Indicates focus on serving and understanding customer needs.'\u001b[0m\n",
       "        \u001b[1m}\u001b[0m,\n",
       "        \u001b[1m{\u001b[0m\n",
       "            \u001b[32m'keyword'\u001b[0m: \u001b[32m'partnership management'\u001b[0m,\n",
       "            \u001b[32m'source'\u001b[0m: \u001b[32m'Work directly with internal and external partners to execute plans'\u001b[0m,\n",
       "            \u001b[32m'reasoning'\u001b[0m: \u001b[32m'Demonstrates ability to collaborate and manage relationships with various stakeholders.'\u001b[0m\n",
       "        \u001b[1m}\u001b[0m,\n",
       "        \u001b[1m{\u001b[0m\n",
       "            \u001b[32m'keyword'\u001b[0m: \u001b[32m'project execution'\u001b[0m,\n",
       "            \u001b[32m'source'\u001b[0m: \u001b[32m'Work directly with internal and external partners to execute plans'\u001b[0m,\n",
       "            \u001b[32m'reasoning'\u001b[0m: \u001b[32m'Highlights experience in implementing and executing plans.'\u001b[0m\n",
       "        \u001b[1m}\u001b[0m,\n",
       "        \u001b[1m{\u001b[0m\n",
       "            \u001b[32m'keyword'\u001b[0m: \u001b[32m'innovation'\u001b[0m,\n",
       "            \u001b[32m'source'\u001b[0m: \u001b[32m'Develop and lead 0 to 1 opportunities for future growth'\u001b[0m,\n",
       "            \u001b[32m'reasoning'\u001b[0m: \u001b[32m'Reflects capability to identify and lead new growth opportunities.'\u001b[0m\n",
       "        \u001b[1m}\u001b[0m,\n",
       "        \u001b[1m{\u001b[0m\n",
       "            \u001b[32m'keyword'\u001b[0m: \u001b[32m'leadership'\u001b[0m,\n",
       "            \u001b[32m'source'\u001b[0m: \u001b[32m'Develop and lead 0 to 1 opportunities for future growth'\u001b[0m,\n",
       "            \u001b[32m'reasoning'\u001b[0m: \u001b[32m'Shows experience in leading projects or initiatives for growth.'\u001b[0m\n",
       "        \u001b[1m}\u001b[0m,\n",
       "        \u001b[1m{\u001b[0m\n",
       "            \u001b[32m'keyword'\u001b[0m: \u001b[32m'cross-functional collaboration'\u001b[0m,\n",
       "            \u001b[32m'source'\u001b[0m: \u001b[32m'Collaborate across Operations, Product, Sales, Engineering, and more'\u001b[0m,\n",
       "            \u001b[32m'reasoning'\u001b[0m: \u001b[32m'Indicates ability to work effectively across different departments and teams.'\u001b[0m\n",
       "        \u001b[1m}\u001b[0m\n",
       "    \u001b[1m]\u001b[0m\n",
       "\u001b[1m}\u001b[0m"
      ]
     },
     "execution_count": 67,
     "metadata": {},
     "output_type": "execute_result"
    }
   ],
   "source": [
    "response_keyword = api_.post(\"/keywords/\", data=payload_keyword.model_dump_json())\n",
    "\n",
    "response_keyword.json()"
   ]
  }
 ],
 "metadata": {
  "kernelspec": {
   "display_name": "Python 3",
   "language": "python",
   "name": "python3"
  },
  "language_info": {
   "codemirror_mode": {
    "name": "ipython",
    "version": 3
   },
   "file_extension": ".py",
   "mimetype": "text/x-python",
   "name": "python",
   "nbconvert_exporter": "python",
   "pygments_lexer": "ipython3",
   "version": "3.11.6"
  }
 },
 "nbformat": 4,
 "nbformat_minor": 2
}
