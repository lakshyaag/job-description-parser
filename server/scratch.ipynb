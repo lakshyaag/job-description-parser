{
 "cells": [
  {
   "cell_type": "code",
   "execution_count": 33,
   "metadata": {},
   "outputs": [
    {
     "name": "stdout",
     "output_type": "stream",
     "text": [
      "The rich extension is already loaded. To reload it, use:\n",
      "  %reload_ext rich\n"
     ]
    },
    {
     "data": {
      "text/html": [
       "<pre style=\"white-space:pre;overflow-x:auto;line-height:normal;font-family:Menlo,'DejaVu Sans Mono',consolas,'Courier New',monospace\"></pre>\n"
      ],
      "text/plain": []
     },
     "metadata": {},
     "output_type": "display_data"
    },
    {
     "data": {
      "text/plain": [
       "\u001b[3;92mTrue\u001b[0m"
      ]
     },
     "execution_count": 33,
     "metadata": {},
     "output_type": "execute_result"
    }
   ],
   "source": [
    "import os\n",
    "\n",
    "import instructor\n",
    "from dotenv import find_dotenv, load_dotenv\n",
    "from openai import OpenAI\n",
    "from pydantic import BaseModel, Field\n",
    "from rich import print\n",
    "from typing import Optional\n",
    "\n",
    "%load_ext autoreload\n",
    "%autoreload 2\n",
    "\n",
    "%load_ext rich\n",
    "\n",
    "load_dotenv(find_dotenv())"
   ]
  },
  {
   "cell_type": "code",
   "execution_count": 13,
   "metadata": {},
   "outputs": [],
   "source": [
    "llm_client = instructor.patch(\n",
    "    OpenAI(\n",
    "        api_key=os.getenv(\"OPENAI_API_KEY\"),\n",
    "    ),\n",
    ")"
   ]
  },
  {
   "cell_type": "code",
   "execution_count": 17,
   "metadata": {},
   "outputs": [],
   "source": [
    "class Skill(BaseModel):\n",
    "    index: int = Field(description=\"Unique identifier for the skill.\")\n",
    "    type: str = Field(description=\"Keyword that describes the skill.\", max_length=250)\n",
    "    description: str = Field(\n",
    "        description=\"Description of the skill in a generic context\"\n",
    "    )\n",
    "\n",
    "\n",
    "class Responsibility(BaseModel):\n",
    "    index: int = Field(description=\"Unique identifier for the responsibility.\")\n",
    "    description: str = Field(\n",
    "        description=\"Detailed description of the responsibility, outlining specific tasks or objectives.\",\n",
    "    )\n",
    "\n",
    "\n",
    "class Qualification(BaseModel):\n",
    "    index: int = Field(description=\"Unique identifier for the qualification.\")\n",
    "    description: str = Field(\n",
    "        description=\"Description of the educational or professional qualifications required for the job, including degrees, certifications, or specific areas of expertise.\",\n",
    "    )\n",
    "\n",
    "\n",
    "class Experience(BaseModel):\n",
    "    index: int = Field(description=\"Unique identifier for the experience.\")\n",
    "    description: str = Field(\n",
    "        description=\"Description of the prior work experience required, including the type of roles, industry exposure, and years of experience.\",\n",
    "    )\n",
    "\n",
    "\n",
    "class Benefits(BaseModel):\n",
    "    index: int = Field(description=\"Unique identifier for the benefit.\")\n",
    "    description: str = Field(\n",
    "        description=\"Description of the benefit offered, such as health insurance, retirement plans, and work-life balance perks.\",\n",
    "    )\n",
    "    salary: Optional[str] = Field(\n",
    "        description=\"The salary range for the job, if available. This can be a specific number or a range, such as $50,000 - $60,000 per year.\",\n",
    "    )\n",
    "\n",
    "\n",
    "class JobDescription(BaseModel):\n",
    "    title: str = Field(description=\"The official title of the job position.\")\n",
    "    company_information: str = Field(\n",
    "        description=\"Overview of the company, including its mission, values, and industry.\"\n",
    "    )\n",
    "    location: str = Field(\n",
    "        description=\"The primary location of the job, including city, state, and country.\",\n",
    "        examples=[\"San Francisco, CA, USA\", \"Remote\", \"Montreal, QC, Canada\"],\n",
    "    )\n",
    "\n",
    "    responsibilities: list[Responsibility] = Field(\n",
    "        description=\"A list of key responsibilities associated with the job, detailing regular tasks and expectations.\"\n",
    "    )\n",
    "\n",
    "    qualifications: list[Qualification] = Field(\n",
    "        description=\"A list of qualifications necessary for the job, including educational background, skills, and other requirements.\"\n",
    "    )\n",
    "\n",
    "    experience: list[Experience] = Field(\n",
    "        description=\"A list of experience requirements, specifying the necessary background and expertise in related fields.\"\n",
    "    )\n",
    "\n",
    "    benefits: list[str] = Field(\n",
    "        description=\"A list of benefits offered with the job, such as competitive salary and benefits package, career growth opportunities, global work environment, and innovative and challenging projects.\"\n",
    "    )\n",
    "\n",
    "    culture: str = Field(\n",
    "        description=\"Description of the company culture, highlighting values, work environment, and team dynamics.\"\n",
    "    )\n",
    "\n",
    "    skills: list[Skill] = Field(\n",
    "        description=\"A list of skills required for the job, as idenified in the job description.\"\n",
    "    )\n",
    "\n",
    "    additional_requirements: list[str] = Field(\n",
    "        default=[],\n",
    "        description=\"Any additional requirements or preferences for the job that don't fall into the standard categories, such as specific software knowledge, language skills, or personal attributes.\",\n",
    "    )"
   ]
  },
  {
   "cell_type": "code",
   "execution_count": 26,
   "metadata": {},
   "outputs": [],
   "source": [
    "class JobDescriptionNew(BaseModel):\n",
    "    title: str = Field(description=\"The official title of the job position.\")\n",
    "    company_information: str = Field(\n",
    "        description=\"Overview of the company, including its mission, values, and industry.\"\n",
    "    )\n",
    "\n",
    "    location: str = Field(\n",
    "        description=\"The primary location of the job, including city, state, and country.\",\n",
    "        examples=[\"San Francisco, CA, USA\", \"Remote\", \"Montreal, QC, Canada\"],\n",
    "    )\n",
    "\n",
    "    years_of_experience: str = Field(\n",
    "        description=\"The number of years of experience required for the job.\",\n",
    "        examples=[\"3-5 years\", \"5+ years\", \"Entry level\"],\n",
    "    )\n",
    "\n",
    "    education: str = Field(\n",
    "        description=\"The educational background required for the job, such as a Bachelor's degree or equivalent experience.\",\n",
    "        examples=[\n",
    "            \"Bachelor's degree in Computer Science\",\n",
    "            \"Master's degree in Business Administration\",\n",
    "        ],\n",
    "    )\n",
    "\n",
    "    salary_range: str = Field(\n",
    "        description=\"The salary range for the job, if available. This can be a specific number or a range, such as $50,000 - $60,000 per year.\",\n",
    "    )\n",
    "\n",
    "    responsibilities: list[Responsibility] = Field(\n",
    "        description=\"A list of key responsibilities associated with the job, detailing regular tasks and expectations.\"\n",
    "    )\n",
    "\n",
    "    experience: list[Experience] = Field(\n",
    "        description=\"A list of experience requirements, specifying the necessary background and expertise in related fields.\"\n",
    "    )\n",
    "\n",
    "    additional_requirements: list[str] = Field(\n",
    "        default=[],\n",
    "        description=\"Any additional requirements or preferences for the job that don't fall into the standard categories, such as specific software knowledge, language skills, or personal attributes.\",\n",
    "    )\n",
    "\n",
    "    skills: list[Skill] = Field(\n",
    "        description=\"A list of skills required for the job, as idenified in the job description.\"\n",
    "    )"
   ]
  },
  {
   "cell_type": "code",
   "execution_count": 69,
   "metadata": {},
   "outputs": [],
   "source": [
    "job_description = \"\"\"\n",
    "At Desjardins, we believe in equity, diversity and inclusion. We're committed to welcoming, respecting and valuing people for who they are as individuals, learning from their differences, embracing their uniqueness, and providing a positive workplace for all. At Desjardins, we have zero tolerance for discrimination of any kind. We believe our teams should reflect the diversity of the members, clients and communities we serve.\n",
    "\n",
    "If there's something we can do to help make the recruitment process or the job you're applying for more accessible, let us know. We can provide accommodations at any stage in the recruitment process. Just ask!\n",
    "\n",
    "Job Level\n",
    "\n",
    "NV-10\n",
    "\n",
    "As a data analyst, you collect, process, analyze and use data that comes through different channels. You extract, describe, analyze and interpret the data needed to make informed business decisions.\n",
    "\n",
    "You lead stakeholders in projects for designing analytical solutions adapted to a wide range of business needs and in complex strategic data collection, processing and analysis interventions.\n",
    "\n",
    "You make recommendations on the planning and execution of operationally and conceptually complex analytical projects and initiatives that involve using your ability to use multiple databases, your analytical skills and your in depth, comprehensive understanding of the line of business and the organization.\n",
    "\n",
    "Your initiatives require extensive, in-depth knowledge of your line of work.\n",
    "\n",
    "You serve as a data use specialist advisor and subject matter expert for various stakeholders, and as a resource person and coach for decision-making bodies. You interact with many stakeholders in other fields to understand and communicate issues, and influence decision-making.\n",
    "\n",
    "General Information on the Position\n",
    "\n",
    "Main Responsibilities\n",
    "• Analyze and identify user needs and work on complex mandates to collect, process and analyze data, taking into account the specifics of their operationalization and ensuring coordination during the rollout\n",
    "• Develop and improve reports and tools for interpreting operationally and conceptually complex data to influence the sector's strategic decision-making\n",
    "• Target opportunities to improve work methods and processes, and recommend improvements to data management tools\n",
    "• Serve as specialist advisor to help teams understand and prioritize their needs, and identify solutions in terms of collecting, processing, analyzing and interpreting data\n",
    "• Perform descriptive and diagnostic data analyses for a wide range of complex mandates and make recommendations to the relevant decision-making bodies from a data collection, processing and analysis perspective.\n",
    "\n",
    "Other Working Conditions\n",
    "• Workplace: Position located in Lévis or Montreal, depending on the applicant selected. The work arrangement for the position is hybrid work\n",
    "• Number of jobs available: 1\n",
    "\n",
    "Qualifications\n",
    "• Bachelor's degree in a related field\n",
    "• A minimum of 6 years of relevant experience\n",
    "\n",
    "Please note that other combinations of qualifications and relevant experience may be considered\n",
    "• For vacant positions available in Quebec, please note that knowledge of French is required\n",
    "\n",
    "Desjardins Cross-sector Skills\n",
    "\n",
    "Action oriented, Customer Focus, Differences, Nimble learning\n",
    "\n",
    "Key competencies for the job\n",
    "\n",
    "Ambiguity, Business insight, Communicates effectively, Complexity, Decision quality, Interpersonal Savvy, Strategic mindset\n",
    "\n",
    "Work Location\n",
    "\n",
    "1, Complexe Desjardins, Montréal\n",
    "\n",
    "Trade Union\n",
    "\n",
    "Non Syndiqué\n",
    "\n",
    "Unposting Date\n",
    "\n",
    "2024-04-4\n",
    "\n",
    "Job Family\n",
    "\n",
    "Data (FG)\n",
    "\n",
    "Desjardins Group is the largest cooperative financial group in Canada, and one of the largest employers in the country. It offers a full range of financial products and services and is home to a wealth of expertise in property and casualty insurance, life and health insurance, wealth management, services for businesses of all sizes, securities brokerage, asset management, venture capital, and secure, leading-edge virtual access methods\n",
    "\"\"\""
   ]
  },
  {
   "cell_type": "code",
   "execution_count": 28,
   "metadata": {},
   "outputs": [],
   "source": [
    "jd = llm_client.chat.completions.create(\n",
    "    model=\"gpt-4-turbo-preview\",\n",
    "    response_model=JobDescriptionNew,\n",
    "    messages=[\n",
    "        {\"role\": \"user\", \"content\": \"Extract information from the job description\"},\n",
    "        {\"role\": \"user\", \"content\": job_description},\n",
    "    ],\n",
    ")"
   ]
  },
  {
   "cell_type": "code",
   "execution_count": 31,
   "metadata": {},
   "outputs": [
    {
     "data": {
      "text/html": [
       "<pre style=\"white-space:pre;overflow-x:auto;line-height:normal;font-family:Menlo,'DejaVu Sans Mono',consolas,'Courier New',monospace\"></pre>\n"
      ],
      "text/plain": []
     },
     "metadata": {},
     "output_type": "display_data"
    },
    {
     "data": {
      "text/plain": [
       "\n",
       "\u001b[1;35mJobDescriptionNew\u001b[0m\u001b[1m(\u001b[0m\n",
       "    \u001b[33mtitle\u001b[0m=\u001b[32m'Principal Developer - Google Cloud'\u001b[0m,\n",
       "    \u001b[33mcompany_information\u001b[0m=\u001b[32m\"The\u001b[0m\u001b[32m Google Cloud Platform team helps customers transform and build what's next for their business — all with technology built in the cloud. Our products are engineered for security, reliability and scalability, running the full stack from infrastructure to applications to devices and hardware. Our teams are dedicated to helping our customers — developers, small and large businesses, educational institutions and government agencies — see the benefits of our technology come to life. As part of an entrepreneurial team in this rapidly growing business, you will play a key role in understanding the needs of our customers and help shape the future of businesses of all sizes use technology to connect with customers, employees and partners.\"\u001b[0m,\n",
       "    \u001b[33mlocation\u001b[0m=\u001b[32m'Not Specified'\u001b[0m,\n",
       "    \u001b[33myears_of_experience\u001b[0m=\u001b[32m'10 years'\u001b[0m,\n",
       "    \u001b[33meducation\u001b[0m=\u001b[32m\"Bachelor\u001b[0m\u001b[32m's degree or equivalent practical experience.\"\u001b[0m,\n",
       "    \u001b[33msalary_range\u001b[0m=\u001b[32m'Not Specified'\u001b[0m,\n",
       "    \u001b[33mresponsibilities\u001b[0m=\u001b[1m[\u001b[0m\n",
       "        \u001b[1;35mResponsibility\u001b[0m\u001b[1m(\u001b[0m\n",
       "            \u001b[33mindex\u001b[0m=\u001b[1;36m1\u001b[0m,\n",
       "            \u001b[33mdescription\u001b[0m=\u001b[32m'Build an advisory relationship with strategic accounts and engage with Developers, Vice President of Development, Chief Technology Officers, and Chief Information Officers.'\u001b[0m\n",
       "        \u001b[1m)\u001b[0m,\n",
       "        \u001b[1;35mResponsibility\u001b[0m\u001b[1m(\u001b[0m\n",
       "            \u001b[33mindex\u001b[0m=\u001b[1;36m2\u001b[0m,\n",
       "            \u001b[33mdescription\u001b[0m=\u001b[32m'Provide technical expertise to support the technical relationship with Google’s customers, including product and solution briefings, proof-of-concept work, and partner directly with product management to prioritize solutions impacting customer adoption to Google Cloud.'\u001b[0m\n",
       "        \u001b[1m)\u001b[0m,\n",
       "        \u001b[1;35mResponsibility\u001b[0m\u001b[1m(\u001b[0m\n",
       "            \u001b[33mindex\u001b[0m=\u001b[1;36m3\u001b[0m,\n",
       "            \u001b[33mdescription\u001b[0m=\u001b[32m'Work with customers to demonstrate and prototype Google Cloud product integrations in customer/partner environments.'\u001b[0m\n",
       "        \u001b[1m)\u001b[0m,\n",
       "        \u001b[1;35mResponsibility\u001b[0m\u001b[1m(\u001b[0m\n",
       "            \u001b[33mindex\u001b[0m=\u001b[1;36m4\u001b[0m,\n",
       "            \u001b[33mdescription\u001b[0m=\u001b[32m'Recommend integration strategies, enterprise architectures, platforms and application infrastructure required to implement a complete solution using best practices on Google Cloud.'\u001b[0m\n",
       "        \u001b[1m)\u001b[0m,\n",
       "        \u001b[1;35mResponsibility\u001b[0m\u001b[1m(\u001b[0m\n",
       "            \u001b[33mindex\u001b[0m=\u001b[1;36m5\u001b[0m,\n",
       "            \u001b[33mdescription\u001b[0m=\u001b[32m'Travel to customer sites, conferences, and other related events as needed.'\u001b[0m\n",
       "        \u001b[1m)\u001b[0m\n",
       "    \u001b[1m]\u001b[0m,\n",
       "    \u001b[33mexperience\u001b[0m=\u001b[1m[\u001b[0m\n",
       "        \u001b[1;35mExperience\u001b[0m\u001b[1m(\u001b[0m\n",
       "            \u001b[33mindex\u001b[0m=\u001b[1;36m1\u001b[0m,\n",
       "            \u001b[33mdescription\u001b[0m=\u001b[32m'10 years of experience as a technical sales developer in a cloud computing environment or customer-facing role.'\u001b[0m\n",
       "        \u001b[1m)\u001b[0m,\n",
       "        \u001b[1;35mExperience\u001b[0m\u001b[1m(\u001b[0m\n",
       "            \u001b[33mindex\u001b[0m=\u001b[1;36m2\u001b[0m,\n",
       "            \u001b[33mdescription\u001b[0m=\u001b[32m'Experience engaging with, and presenting to, technical stakeholders and executive leaders in the telecommunications industry.'\u001b[0m\n",
       "        \u001b[1m)\u001b[0m,\n",
       "        \u001b[1;35mExperience\u001b[0m\u001b[1m(\u001b[0m\n",
       "            \u001b[33mindex\u001b[0m=\u001b[1;36m3\u001b[0m,\n",
       "            \u001b[33mdescription\u001b[0m=\u001b[32m'Experience in cloud computing across applications, infrastructure, storage, platforms, data and cloud market insights.'\u001b[0m\n",
       "        \u001b[1m)\u001b[0m,\n",
       "        \u001b[1;35mExperience\u001b[0m\u001b[1m(\u001b[0m\n",
       "            \u001b[33mindex\u001b[0m=\u001b[1;36m4\u001b[0m,\n",
       "            \u001b[33mdescription\u001b[0m=\u001b[32m'Experience in enterprise technology buying and evaluation process.'\u001b[0m\n",
       "        \u001b[1m)\u001b[0m,\n",
       "        \u001b[1;35mExperience\u001b[0m\u001b[1m(\u001b[0m\n",
       "            \u001b[33mindex\u001b[0m=\u001b[1;36m5\u001b[0m,\n",
       "            \u001b[33mdescription\u001b[0m=\u001b[32m'Experience in building, developing, designing and implementing distributed global cloud-based systems.'\u001b[0m\n",
       "        \u001b[1m)\u001b[0m\n",
       "    \u001b[1m]\u001b[0m,\n",
       "    \u001b[33madditional_requirements\u001b[0m=\u001b[1m[\u001b[0m\n",
       "        \u001b[32m'Knowledge of technology solutions'\u001b[0m,\n",
       "        \u001b[32m'Ability to deliver results and work cross-functionally to position and orchestrate a solution consisting of multiple products.'\u001b[0m,\n",
       "        \u001b[32m'Ability to drive and influence audiences and identify expansion engagements within accounts.'\u001b[0m,\n",
       "        \u001b[32m'Ability to learn and work with new emerging technologies, methodologies, and solutions in the Cloud/IT technology space.'\u001b[0m\n",
       "    \u001b[1m]\u001b[0m,\n",
       "    \u001b[33mskills\u001b[0m=\u001b[1m[\u001b[0m\n",
       "        \u001b[1;35mSkill\u001b[0m\u001b[1m(\u001b[0m\n",
       "            \u001b[33mindex\u001b[0m=\u001b[1;36m1\u001b[0m,\n",
       "            \u001b[33mtype\u001b[0m=\u001b[32m'Technical expertise'\u001b[0m,\n",
       "            \u001b[33mdescription\u001b[0m=\u001b[32m'Ability to provide technical guidance and expertise in Google Cloud products and solutions.'\u001b[0m\n",
       "        \u001b[1m)\u001b[0m,\n",
       "        \u001b[1;35mSkill\u001b[0m\u001b[1m(\u001b[0m\n",
       "            \u001b[33mindex\u001b[0m=\u001b[1;36m2\u001b[0m,\n",
       "            \u001b[33mtype\u001b[0m=\u001b[32m'Problem-solving'\u001b[0m,\n",
       "            \u001b[33mdescription\u001b[0m=\u001b[32m'Skilled in identifying and solving potential roadblocks for Google Cloud adoption with customers.'\u001b[0m\n",
       "        \u001b[1m)\u001b[0m,\n",
       "        \u001b[1;35mSkill\u001b[0m\u001b[1m(\u001b[0m\n",
       "            \u001b[33mindex\u001b[0m=\u001b[1;36m3\u001b[0m,\n",
       "            \u001b[33mtype\u001b[0m=\u001b[32m'Communication'\u001b[0m,\n",
       "            \u001b[33mdescription\u001b[0m=\u001b[32m'Expertise in engaging with and presenting to technical stakeholders and executive leaders.'\u001b[0m\n",
       "        \u001b[1m)\u001b[0m,\n",
       "        \u001b[1;35mSkill\u001b[0m\u001b[1m(\u001b[0m\n",
       "            \u001b[33mindex\u001b[0m=\u001b[1;36m4\u001b[0m,\n",
       "            \u001b[33mtype\u001b[0m=\u001b[32m'Cloud Computing'\u001b[0m,\n",
       "            \u001b[33mdescription\u001b[0m=\u001b[32m'Deep understanding of cloud computing technologies across various domains.'\u001b[0m\n",
       "        \u001b[1m)\u001b[0m,\n",
       "        \u001b[1;35mSkill\u001b[0m\u001b[1m(\u001b[0m\n",
       "            \u001b[33mindex\u001b[0m=\u001b[1;36m5\u001b[0m,\n",
       "            \u001b[33mtype\u001b[0m=\u001b[32m'Cross-functional collaboration'\u001b[0m,\n",
       "            \u001b[33mdescription\u001b[0m=\u001b[32m'Ability to work effectively across different teams to orchestrate comprehensive solutions.'\u001b[0m\n",
       "        \u001b[1m)\u001b[0m,\n",
       "        \u001b[1;35mSkill\u001b[0m\u001b[1m(\u001b[0m\n",
       "            \u001b[33mindex\u001b[0m=\u001b[1;36m6\u001b[0m,\n",
       "            \u001b[33mtype\u001b[0m=\u001b[32m'Continuous learning'\u001b[0m,\n",
       "            \u001b[33mdescription\u001b[0m=\u001b[32m'Eagerness to continuously learn and adapt to new technologies and methodologies in the cloud/IT space.'\u001b[0m\n",
       "        \u001b[1m)\u001b[0m\n",
       "    \u001b[1m]\u001b[0m\n",
       "\u001b[1m)\u001b[0m"
      ]
     },
     "execution_count": 31,
     "metadata": {},
     "output_type": "execute_result"
    }
   ],
   "source": [
    "jd"
   ]
  },
  {
   "cell_type": "code",
   "execution_count": 38,
   "metadata": {},
   "outputs": [],
   "source": [
    "import httpx\n",
    "from models import RequestPayload"
   ]
  },
  {
   "cell_type": "code",
   "execution_count": 70,
   "metadata": {},
   "outputs": [
    {
     "data": {
      "text/html": [
       "<pre style=\"white-space:pre;overflow-x:auto;line-height:normal;font-family:Menlo,'DejaVu Sans Mono',consolas,'Courier New',monospace\"></pre>\n"
      ],
      "text/plain": []
     },
     "metadata": {},
     "output_type": "display_data"
    },
    {
     "data": {
      "text/plain": [
       "\n",
       "\u001b[1;35mRequestPayload\u001b[0m\u001b[1m(\u001b[0m\n",
       "    \u001b[33mjob_description\u001b[0m=\u001b[32m\"\\nAt Desjardins, we believe in equity, diversity and inclusion. We're committed to welcoming, respecting and valuing people for who they are as individuals, learning from their differences, embracing their uniqueness, and providing a positive workplace for all. At Desjardins, we have zero tolerance for discrimination of any kind. We believe our teams should reflect the diversity of the members, clients and communities we serve.\\n\\nIf there's something we can do to help make the recruitment process or the job you're applying for more accessible, let us know. We can provide accommodations at any stage in the recruitment process. Just ask!\\n\\nJob Level\\n\\nNV-10\\n\\nAs a data analyst, you collect, process, analyze and use data that comes through different channels. You extract, describe, analyze and interpret the data needed to make informed business decisions.\\n\\nYou lead stakeholders in projects for designing analytical solutions adapted to a wide range of business needs and in complex strategic data collection, processing and analysis interventions.\\n\\nYou make recommendations on the planning and execution of operationally and conceptually complex analytical projects and initiatives that involve using your ability to use multiple databases, your analytical skills and your in depth, comprehensive understanding of the line of business and the organization.\\n\\nYour initiatives require extensive, in-depth knowledge of your line of work.\\n\\nYou serve as a data use specialist advisor and subject matter expert for various stakeholders, and as a resource person and coach for decision-making bodies. You interact with many stakeholders in other fields to understand and communicate issues, and influence decision-making.\\n\\nGeneral Information on the Position\\n\\nMain Responsibilities\\n• Analyze and identify user needs and work on complex mandates to collect, process and analyze data, taking into account the specifics of their operationalization and ensuring coordination during the rollout\\n• Develop and improve reports and tools for interpreting operationally and conceptually complex data to influence the sector's strategic decision-making\\n• Target opportunities to improve work methods and processes, and recommend improvements to data management tools\\n• Serve as specialist advisor to help teams understand and prioritize their needs, and identify solutions in terms of collecting, processing, analyzing and interpreting data\\n• Perform descriptive and diagnostic data analyses for a wide range of complex mandates and make recommendations to the relevant decision-making bodies from a data collection, processing and analysis perspective.\\n\\nOther Working Conditions\\n• Workplace: Position located in Lévis or Montreal, depending on the applicant selected. The work arrangement for the position is hybrid work\\n• Number of jobs available: 1\\n\\nQualifications\\n• Bachelor's degree in a related field\\n• A minimum of 6 years of relevant experience\\n\\nPlease note that other combinations of qualifications and relevant experience may be considered\\n• For vacant positions available in Quebec, please note that knowledge of French is required\\n\\nDesjardins Cross-sector Skills\\n\\nAction oriented, Customer Focus, Differences, Nimble learning\\n\\nKey competencies for the job\\n\\nAmbiguity, Business insight, Communicates effectively, Complexity, Decision quality, Interpersonal Savvy, Strategic mindset\\n\\nWork Location\\n\\n1, Complexe Desjardins, Montréal\\n\\nTrade Union\\n\\nNon Syndiqué\\n\\nUnposting Date\\n\\n2024-04-4\\n\\nJob Family\\n\\nData \u001b[0m\u001b[32m(\u001b[0m\u001b[32mFG\u001b[0m\u001b[32m)\u001b[0m\u001b[32m\\n\\nDesjardins Group is the largest cooperative financial group in Canada, and one of the largest employers in the country. It offers a full range of financial products and services and is home to a wealth of expertise in property and casualty insurance, life and health insurance, wealth management, services for businesses of all sizes, securities brokerage, asset management, venture capital, and secure, leading-edge virtual access methods\\n\"\u001b[0m\n",
       "\u001b[1m)\u001b[0m"
      ]
     },
     "execution_count": 70,
     "metadata": {},
     "output_type": "execute_result"
    }
   ],
   "source": [
    "api_ = httpx.Client(base_url=\"http://0.0.0.0:8000\", timeout=1200)\n",
    "\n",
    "\n",
    "payload = RequestPayload(job_description=job_description)\n",
    "payload\n"
   ]
  },
  {
   "cell_type": "code",
   "execution_count": 71,
   "metadata": {},
   "outputs": [],
   "source": [
    "response = api_.post(\"/jd/\", data=payload.model_dump_json())"
   ]
  },
  {
   "cell_type": "code",
   "execution_count": 74,
   "metadata": {},
   "outputs": [
    {
     "data": {
      "text/html": [
       "<pre style=\"white-space:pre;overflow-x:auto;line-height:normal;font-family:Menlo,'DejaVu Sans Mono',consolas,'Courier New',monospace\"></pre>\n"
      ],
      "text/plain": []
     },
     "metadata": {},
     "output_type": "display_data"
    },
    {
     "data": {
      "text/plain": [
       "\u001b[1m<\u001b[0m\u001b[1;95mResponse\u001b[0m\u001b[39m \u001b[0m\u001b[1;39m[\u001b[0m\u001b[1;36m200\u001b[0m\u001b[39m OK\u001b[0m\u001b[1;39m]\u001b[0m\u001b[1m>\u001b[0m"
      ]
     },
     "execution_count": 74,
     "metadata": {},
     "output_type": "execute_result"
    }
   ],
   "source": [
    "response"
   ]
  },
  {
   "cell_type": "code",
   "execution_count": 75,
   "metadata": {},
   "outputs": [
    {
     "data": {
      "text/html": [
       "<pre style=\"white-space:pre;overflow-x:auto;line-height:normal;font-family:Menlo,'DejaVu Sans Mono',consolas,'Courier New',monospace\"></pre>\n"
      ],
      "text/plain": []
     },
     "metadata": {},
     "output_type": "display_data"
    },
    {
     "data": {
      "text/plain": [
       "\n",
       "\u001b[1m{\u001b[0m\n",
       "    \u001b[32m'title'\u001b[0m: \u001b[32m'Data Analyst'\u001b[0m,\n",
       "    \u001b[32m'company_information'\u001b[0m: \u001b[32m'Desjardins Group is the largest cooperative financial group in Canada, and one of the largest employers in the country. It offers a full range of financial products and services and is home to a wealth of expertise in property and casualty insurance, life and health insurance, wealth management, services for businesses of all sizes, securities brokerage, asset management, venture capital, and secure, leading-edge virtual access methods'\u001b[0m,\n",
       "    \u001b[32m'location'\u001b[0m: \u001b[32m'Montréal, QC, Canada'\u001b[0m,\n",
       "    \u001b[32m'years_of_experience'\u001b[0m: \u001b[32m'6 years'\u001b[0m,\n",
       "    \u001b[32m'education'\u001b[0m: \u001b[32m\"Bachelor's degree in a related field\"\u001b[0m,\n",
       "    \u001b[32m'salary_range'\u001b[0m: \u001b[32m''\u001b[0m,\n",
       "    \u001b[32m'responsibilities'\u001b[0m: \u001b[1m[\u001b[0m\n",
       "        \u001b[1m{\u001b[0m\n",
       "            \u001b[32m'index'\u001b[0m: \u001b[1;36m1\u001b[0m,\n",
       "            \u001b[32m'description'\u001b[0m: \u001b[32m'Analyze and identify user needs and work on complex mandates to collect, process, and analyze data.'\u001b[0m\n",
       "        \u001b[1m}\u001b[0m,\n",
       "        \u001b[1m{\u001b[0m\n",
       "            \u001b[32m'index'\u001b[0m: \u001b[1;36m2\u001b[0m,\n",
       "            \u001b[32m'description'\u001b[0m: \u001b[32m'Develop and improve reports and tools for interpreting operationally and conceptually complex data.'\u001b[0m\n",
       "        \u001b[1m}\u001b[0m,\n",
       "        \u001b[1m{\u001b[0m\n",
       "            \u001b[32m'index'\u001b[0m: \u001b[1;36m3\u001b[0m,\n",
       "            \u001b[32m'description'\u001b[0m: \u001b[32m'Target opportunities to improve work methods and processes, and recommend improvements to data management tools.'\u001b[0m\n",
       "        \u001b[1m}\u001b[0m,\n",
       "        \u001b[1m{\u001b[0m\n",
       "            \u001b[32m'index'\u001b[0m: \u001b[1;36m4\u001b[0m,\n",
       "            \u001b[32m'description'\u001b[0m: \u001b[32m'Serve as specialist advisor to help teams understand and prioritize their needs, and identify solutions in terms of collecting, processing, analyzing and interpreting data.'\u001b[0m\n",
       "        \u001b[1m}\u001b[0m,\n",
       "        \u001b[1m{\u001b[0m\n",
       "            \u001b[32m'index'\u001b[0m: \u001b[1;36m5\u001b[0m,\n",
       "            \u001b[32m'description'\u001b[0m: \u001b[32m'Perform descriptive and diagnostic data analyses and make recommendations to the relevant decision-making bodies.'\u001b[0m\n",
       "        \u001b[1m}\u001b[0m\n",
       "    \u001b[1m]\u001b[0m,\n",
       "    \u001b[32m'qualifications'\u001b[0m: \u001b[3;35mNone\u001b[0m,\n",
       "    \u001b[32m'experience'\u001b[0m: \u001b[1m[\u001b[0m\u001b[1m{\u001b[0m\u001b[32m'index'\u001b[0m: \u001b[1;36m1\u001b[0m, \u001b[32m'description'\u001b[0m: \u001b[32m'A minimum of 6 years of relevant experience'\u001b[0m\u001b[1m}\u001b[0m\u001b[1m]\u001b[0m,\n",
       "    \u001b[32m'benefits'\u001b[0m: \u001b[3;35mNone\u001b[0m,\n",
       "    \u001b[32m'culture'\u001b[0m: \u001b[32m\"At Desjardins, we believe in equity, diversity and inclusion. We're committed to welcoming, respecting and valuing people for who they are as individuals, learning from their differences, embracing their uniqueness, and providing a positive workplace for all. \"\u001b[0m,\n",
       "    \u001b[32m'skills'\u001b[0m: \u001b[1m[\u001b[0m\n",
       "        \u001b[1m{\u001b[0m\u001b[32m'index'\u001b[0m: \u001b[1;36m1\u001b[0m, \u001b[32m'type'\u001b[0m: \u001b[32m'Action oriented'\u001b[0m, \u001b[32m'description'\u001b[0m: \u001b[32m'Ability to initiate actions'\u001b[0m\u001b[1m}\u001b[0m,\n",
       "        \u001b[1m{\u001b[0m\n",
       "            \u001b[32m'index'\u001b[0m: \u001b[1;36m2\u001b[0m,\n",
       "            \u001b[32m'type'\u001b[0m: \u001b[32m'Customer Focus'\u001b[0m,\n",
       "            \u001b[32m'description'\u001b[0m: \u001b[32m'Ability to focus on customer needs and satisfaction'\u001b[0m\n",
       "        \u001b[1m}\u001b[0m,\n",
       "        \u001b[1m{\u001b[0m\u001b[32m'index'\u001b[0m: \u001b[1;36m3\u001b[0m, \u001b[32m'type'\u001b[0m: \u001b[32m'Differences'\u001b[0m, \u001b[32m'description'\u001b[0m: \u001b[32m'Embracing and valuing diversity'\u001b[0m\u001b[1m}\u001b[0m,\n",
       "        \u001b[1m{\u001b[0m\n",
       "            \u001b[32m'index'\u001b[0m: \u001b[1;36m4\u001b[0m,\n",
       "            \u001b[32m'type'\u001b[0m: \u001b[32m'Nimble learning'\u001b[0m,\n",
       "            \u001b[32m'description'\u001b[0m: \u001b[32m'Quickly learning through successes and failures'\u001b[0m\n",
       "        \u001b[1m}\u001b[0m,\n",
       "        \u001b[1m{\u001b[0m\u001b[32m'index'\u001b[0m: \u001b[1;36m5\u001b[0m, \u001b[32m'type'\u001b[0m: \u001b[32m'Ambiguity'\u001b[0m, \u001b[32m'description'\u001b[0m: \u001b[32m'Effectively dealing with ambiguity'\u001b[0m\u001b[1m}\u001b[0m,\n",
       "        \u001b[1m{\u001b[0m\n",
       "            \u001b[32m'index'\u001b[0m: \u001b[1;36m6\u001b[0m,\n",
       "            \u001b[32m'type'\u001b[0m: \u001b[32m'Business insight'\u001b[0m,\n",
       "            \u001b[32m'description'\u001b[0m: \u001b[32m'Understanding business implications and decisions'\u001b[0m\n",
       "        \u001b[1m}\u001b[0m,\n",
       "        \u001b[1m{\u001b[0m\n",
       "            \u001b[32m'index'\u001b[0m: \u001b[1;36m7\u001b[0m,\n",
       "            \u001b[32m'type'\u001b[0m: \u001b[32m'Communicates effectively'\u001b[0m,\n",
       "            \u001b[32m'description'\u001b[0m: \u001b[32m'Able to convey information effectively'\u001b[0m\n",
       "        \u001b[1m}\u001b[0m,\n",
       "        \u001b[1m{\u001b[0m\u001b[32m'index'\u001b[0m: \u001b[1;36m8\u001b[0m, \u001b[32m'type'\u001b[0m: \u001b[32m'Complexity'\u001b[0m, \u001b[32m'description'\u001b[0m: \u001b[32m'Handling complex tasks and situations'\u001b[0m\u001b[1m}\u001b[0m,\n",
       "        \u001b[1m{\u001b[0m\n",
       "            \u001b[32m'index'\u001b[0m: \u001b[1;36m9\u001b[0m,\n",
       "            \u001b[32m'type'\u001b[0m: \u001b[32m'Decision quality'\u001b[0m,\n",
       "            \u001b[32m'description'\u001b[0m: \u001b[32m'Making informed and timely decisions'\u001b[0m\n",
       "        \u001b[1m}\u001b[0m,\n",
       "        \u001b[1m{\u001b[0m\n",
       "            \u001b[32m'index'\u001b[0m: \u001b[1;36m10\u001b[0m,\n",
       "            \u001b[32m'type'\u001b[0m: \u001b[32m'Interpersonal Savvy'\u001b[0m,\n",
       "            \u001b[32m'description'\u001b[0m: \u001b[32m'Building and maintaining effective relationships'\u001b[0m\n",
       "        \u001b[1m}\u001b[0m,\n",
       "        \u001b[1m{\u001b[0m\n",
       "            \u001b[32m'index'\u001b[0m: \u001b[1;36m11\u001b[0m,\n",
       "            \u001b[32m'type'\u001b[0m: \u001b[32m'Strategic mindset'\u001b[0m,\n",
       "            \u001b[32m'description'\u001b[0m: \u001b[32m'Having a forward-thinking mindset'\u001b[0m\n",
       "        \u001b[1m}\u001b[0m\n",
       "    \u001b[1m]\u001b[0m,\n",
       "    \u001b[32m'additional_requirements'\u001b[0m: \u001b[1m[\u001b[0m\n",
       "        \u001b[32m'For vacant positions available in Quebec, please note that knowledge of French is required'\u001b[0m\n",
       "    \u001b[1m]\u001b[0m\n",
       "\u001b[1m}\u001b[0m"
      ]
     },
     "execution_count": 75,
     "metadata": {},
     "output_type": "execute_result"
    }
   ],
   "source": [
    "response.json()"
   ]
  },
  {
   "cell_type": "code",
   "execution_count": null,
   "metadata": {},
   "outputs": [],
   "source": []
  }
 ],
 "metadata": {
  "kernelspec": {
   "display_name": "Python 3",
   "language": "python",
   "name": "python3"
  },
  "language_info": {
   "codemirror_mode": {
    "name": "ipython",
    "version": 3
   },
   "file_extension": ".py",
   "mimetype": "text/x-python",
   "name": "python",
   "nbconvert_exporter": "python",
   "pygments_lexer": "ipython3",
   "version": "3.11.6"
  }
 },
 "nbformat": 4,
 "nbformat_minor": 2
}
