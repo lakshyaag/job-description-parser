{
 "cells": [
  {
   "cell_type": "code",
   "execution_count": 1,
   "metadata": {},
   "outputs": [
    {
     "data": {
      "text/html": [
       "<pre style=\"white-space:pre;overflow-x:auto;line-height:normal;font-family:Menlo,'DejaVu Sans Mono',consolas,'Courier New',monospace\"></pre>\n"
      ],
      "text/plain": []
     },
     "metadata": {},
     "output_type": "display_data"
    },
    {
     "data": {
      "text/plain": [
       "\u001b[3;92mTrue\u001b[0m"
      ]
     },
     "execution_count": 1,
     "metadata": {},
     "output_type": "execute_result"
    }
   ],
   "source": [
    "import os\n",
    "from typing import Annotated, Optional\n",
    "\n",
    "import httpx\n",
    "import instructor\n",
    "from dotenv import find_dotenv, load_dotenv\n",
    "from models import *\n",
    "from openai import OpenAI\n",
    "from prompts import *\n",
    "from pydantic import AfterValidator, BaseModel, BeforeValidator, Field\n",
    "from rich import print\n",
    "\n",
    "%load_ext autoreload\n",
    "%autoreload 2\n",
    "\n",
    "%load_ext rich\n",
    "\n",
    "load_dotenv(find_dotenv())"
   ]
  },
  {
   "cell_type": "code",
   "execution_count": 2,
   "metadata": {},
   "outputs": [],
   "source": [
    "llm_client = instructor.patch(\n",
    "    OpenAI(\n",
    "        api_key=os.getenv(\"OPENAI_API_KEY\"),\n",
    "    ),\n",
    ")"
   ]
  },
  {
   "cell_type": "code",
   "execution_count": 45,
   "metadata": {},
   "outputs": [],
   "source": [
    "job_description = \"\"\"\n",
    "About the Role\n",
    "\n",
    "We are looking for someone who enjoys rolling up their sleeves to join our New Verticals rocketship on Drive - DoorDash’s white label fulfillment platform and product - to scale business with strategic partners, unlock accessibility to local businesses on their own terms, and launch new products and services to expand our TAM.\n",
    "\n",
    "The Associate Manager, Drive New Verticals S&O Canada, will oversee the growth, profitability and operations strategy for our Canada business.\n",
    "\n",
    "You are a first-principles thinker who is both a strategist and a builder. Reporting to the Manager of Drive Strategy and Operations Canada, you will work closely with product, engineering, sales, operations, business development and other teams to make your vision a reality.\n",
    "\n",
    "We expect this role to be hybrid with some time in-office and some time remote.\n",
    "\n",
    "You’re excited about this opportunity because you will\n",
    "• Strategize : You will develop the strategy to best serve our customers, thinking at a deeply strategic level about the success now and 5-10+ years out.\n",
    "• Operate : You want to get to the lowest level of detail, and scale. You will work directly with internal and external partners to execute on your short & long-term plans;\n",
    "\n",
    "you are a cross functional success enabler and an excellent operator.\n",
    "• Build : You will develop and lead 0 to 1 opportunities, creating the roadmap for future growth vectors and determine how to invest our resources to achieve desired outcomes.\n",
    "• Collaborate : You value partnerships, and will excel at working across Operations, Product, Sales, Engineering, and more to bring new products and services to merchants.\n",
    "\n",
    "We’re excited about you because\n",
    "• You are an owner. You display extreme ownership across every workstream while ruthlessly prioritizing what will actually move the needle\n",
    "• You solve problems from first principles. You’re excited to solve problems in innovative ways, and you resist this is how it’s always been done thinking.\n",
    "• You thrive with a diverse set of responsibilities. You love working across a breadth of disciplines and teams.\n",
    "• You’re an analytical powerhouse. You let data win arguments, and you’re comfortable pulling your own data in SQL and modeling in Excel.\n",
    "• You’re persuasive. You are an effective communicator, speaking as if you’re right and listening as if you’re wrong. You meet people on their level.\n",
    "• You act with urgency. Speed excites you. You prefer an accomplishment today to an accomplishment tomorrow.\n",
    "• You’re relentless. You do what it takes to win, no matter what.\n",
    "• You are a builder. You enjoy building from the ground up and excel in creating structure and process.You don’t need a guide.\n",
    "\n",
    "You dive into difficult problems and come up with a plan.\n",
    "\n",
    "You have 4-6 years of experience. You’ve succeeded in a competitive, challenging environment.\n",
    "\n",
    "Bonus Points\n",
    "• You have experience with and are fluent in SQL and excel.\n",
    "• You have experience in managing or supporting a complex P&L.\n",
    "• You have experience launching new partners or new products.\n",
    "• You have a demonstrated interest in logistics, on-demand services, and marketplaces.\n",
    "• You have experience in project management.\n",
    "\n",
    "Why You’ll Love Working at DoorDash\n",
    "• We are leaders - Leadership is not limited to our management team. It’s something everyone at DoorDash embraces and embodies.\n",
    "• We are doers - We believe the only way to predict the future is to build it. Creating solutions that will lead our company and our industry is what we do on every project, every day.\n",
    "• We are learners - We’re not afraid to dig in and uncover the truth, even if it’s scary or inconvenient. Everyone here is continually learning on the job, no matter if we’ve been in a role for one year or one minute.\n",
    "• We are customer-obsessed - Our mission is to grow and empower local economies. We are committed to our customers, merchants, and dashers and believe in connecting people with possibility.\n",
    "• We are all DoorDash - The magic of DoorDash is our people, together making our inspiring goals attainable and driving us to greater heights.\n",
    "• We offer great compensation packages and comprehensive health benefits\n",
    "\"\"\""
   ]
  },
  {
   "cell_type": "code",
   "execution_count": 46,
   "metadata": {},
   "outputs": [
    {
     "data": {
      "text/html": [
       "<pre style=\"white-space:pre;overflow-x:auto;line-height:normal;font-family:Menlo,'DejaVu Sans Mono',consolas,'Courier New',monospace\"></pre>\n"
      ],
      "text/plain": []
     },
     "metadata": {},
     "output_type": "display_data"
    },
    {
     "data": {
      "text/plain": [
       "\n",
       "\u001b[1;35mRequestPayload\u001b[0m\u001b[1m(\u001b[0m\n",
       "    \u001b[33mcontext\u001b[0m=\u001b[32m'\\nAbout the Role\\n\\nWe are looking for someone who enjoys rolling up their sleeves to join our New Verticals rocketship on Drive - DoorDash’s white label fulfillment platform and product - to scale business with strategic partners, unlock accessibility to local businesses on their own terms, and launch new products and services to expand our TAM.\\n\\nThe Associate Manager, Drive New Verticals S&O Canada, will oversee the growth, profitability and operations strategy for our Canada business.\\n\\nYou are a first-principles thinker who is both a strategist and a builder. Reporting to the Manager of Drive Strategy and Operations Canada, you will work closely with product, engineering, sales, operations, business development and other teams to make your vision a reality.\\n\\nWe expect this role to be hybrid with some time in-office and some time remote.\\n\\nYou’re excited about this opportunity because you will\\n• Strategize : You will develop the strategy to best serve our customers, thinking at a deeply strategic level about the success now and 5-10+ years out.\\n• Operate : You want to get to the lowest level of detail, and scale. You will work directly with internal and external partners to execute on your short & long-term plans;\\n\\nyou are a cross functional success enabler and an excellent operator.\\n• Build : You will develop and lead 0 to 1 opportunities, creating the roadmap for future growth vectors and determine how to invest our resources to achieve desired outcomes.\\n• Collaborate : You value partnerships, and will excel at working across Operations, Product, Sales, Engineering, and more to bring new products and services to merchants.\\n\\nWe’re excited about you because\\n• You are an owner. You display extreme ownership across every workstream while ruthlessly prioritizing what will actually move the needle\\n• You solve problems from first principles. You’re excited to solve problems in innovative ways, and you resist this is how it’s always been done thinking.\\n• You thrive with a diverse set of responsibilities. You love working across a breadth of disciplines and teams.\\n• You’re an analytical powerhouse. You let data win arguments, and you’re comfortable pulling your own data in SQL and modeling in Excel.\\n• You’re persuasive. You are an effective communicator, speaking as if you’re right and listening as if you’re wrong. You meet people on their level.\\n• You act with urgency. Speed excites you. You prefer an accomplishment today to an accomplishment tomorrow.\\n• You’re relentless. You do what it takes to win, no matter what.\\n• You are a builder. You enjoy building from the ground up and excel in creating structure and process.You don’t need a guide.\\n\\nYou dive into difficult problems and come up with a plan.\\n\\nYou have 4-6 years of experience. You’ve succeeded in a competitive, challenging environment.\\n\\nBonus Points\\n• You have experience with and are fluent in SQL and excel.\\n• You have experience in managing or supporting a complex P&L.\\n• You have experience launching new partners or new products.\\n• You have a demonstrated interest in logistics, on-demand services, and marketplaces.\\n• You have experience in project management.\\n\\nWhy You’ll Love Working at DoorDash\\n• We are leaders - Leadership is not limited to our management team. It’s something everyone at DoorDash embraces and embodies.\\n• We are doers - We believe the only way to predict the future is to build it. Creating solutions that will lead our company and our industry is what we do on every project, every day.\\n• We are learners - We’re not afraid to dig in and uncover the truth, even if it’s scary or inconvenient. Everyone here is continually learning on the job, no matter if we’ve been in a role for one year or one minute.\\n• We are customer-obsessed - Our mission is to grow and empower local economies. We are committed to our customers, merchants, and dashers and believe in connecting people with possibility.\\n• We are all DoorDash - The magic of DoorDash is our people, together making our inspiring goals attainable and driving us to greater heights.\\n• We offer great compensation packages and comprehensive health benefits\\n'\u001b[0m,\n",
       "    \u001b[33mmodel\u001b[0m=\u001b[32m'gpt-4-turbo-preview'\u001b[0m\n",
       "\u001b[1m)\u001b[0m"
      ]
     },
     "execution_count": 46,
     "metadata": {},
     "output_type": "execute_result"
    }
   ],
   "source": [
    "api_ = httpx.Client(base_url=\"http://0.0.0.0:8000\", timeout=1200)\n",
    "\n",
    "\n",
    "payload = RequestPayload(context=job_description, model=\"gpt-4-turbo-preview\")\n",
    "payload"
   ]
  },
  {
   "cell_type": "code",
   "execution_count": 47,
   "metadata": {},
   "outputs": [
    {
     "name": "stderr",
     "output_type": "stream",
     "text": [
      "2024-03-31 20:00:42,567:INFO - HTTP Request: POST http://0.0.0.0:8000/jd/ \"HTTP/1.1 200 OK\"\n"
     ]
    }
   ],
   "source": [
    "response = api_.post(\"/jd/\", data=payload.model_dump_json())"
   ]
  },
  {
   "cell_type": "code",
   "execution_count": 48,
   "metadata": {},
   "outputs": [
    {
     "data": {
      "text/html": [
       "<pre style=\"white-space:pre;overflow-x:auto;line-height:normal;font-family:Menlo,'DejaVu Sans Mono',consolas,'Courier New',monospace\"></pre>\n"
      ],
      "text/plain": []
     },
     "metadata": {},
     "output_type": "display_data"
    },
    {
     "data": {
      "text/plain": [
       "\n",
       "\u001b[1m{\u001b[0m\n",
       "    \u001b[32m'title'\u001b[0m: \u001b[32m'Associate Manager, Drive New Verticals S&O Canada'\u001b[0m,\n",
       "    \u001b[32m'company_information'\u001b[0m: \u001b[32m'DoorDash is a technology company that connects people with the best in their cities. We do this by empowering local businesses and in turn, generate new ways for people to earn, work and live. We started by facilitating door-to-door delivery, but we see this as just the beginning of connecting people with possibility — easier evenings, happier days, bigger savings accounts, wider nets and stronger communities.'\u001b[0m,\n",
       "    \u001b[32m'industry'\u001b[0m: \u001b[32m'Technology'\u001b[0m,\n",
       "    \u001b[32m'location'\u001b[0m: \u001b[32m'Canada'\u001b[0m,\n",
       "    \u001b[32m'job_type'\u001b[0m: \u001b[32m'Hybrid'\u001b[0m,\n",
       "    \u001b[32m'years_of_experience_required'\u001b[0m: \u001b[1;36m4\u001b[0m,\n",
       "    \u001b[32m'years_of_experience_preferred'\u001b[0m: \u001b[1;36m6\u001b[0m,\n",
       "    \u001b[32m'education'\u001b[0m: \u001b[1m[\u001b[0m\u001b[1m{\u001b[0m\u001b[32m'level'\u001b[0m: \u001b[32m'Not specified'\u001b[0m, \u001b[32m'field_of_study'\u001b[0m: \u001b[3;35mNone\u001b[0m\u001b[1m}\u001b[0m\u001b[1m]\u001b[0m,\n",
       "    \u001b[32m'salary_range'\u001b[0m: \u001b[3;35mNone\u001b[0m,\n",
       "    \u001b[32m'responsibilities'\u001b[0m: \u001b[1m[\u001b[0m\n",
       "        \u001b[1m{\u001b[0m\u001b[32m'index'\u001b[0m: \u001b[1;36m1\u001b[0m, \u001b[32m'description'\u001b[0m: \u001b[32m'Develop the strategy to best serve our customers.'\u001b[0m\u001b[1m}\u001b[0m,\n",
       "        \u001b[1m{\u001b[0m\n",
       "            \u001b[32m'index'\u001b[0m: \u001b[1;36m2\u001b[0m,\n",
       "            \u001b[32m'description'\u001b[0m: \u001b[32m'Work directly with internal and external partners to execute on short & long-term plans.'\u001b[0m\n",
       "        \u001b[1m}\u001b[0m,\n",
       "        \u001b[1m{\u001b[0m\n",
       "            \u001b[32m'index'\u001b[0m: \u001b[1;36m3\u001b[0m,\n",
       "            \u001b[32m'description'\u001b[0m: \u001b[32m'Develop and lead 0 to 1 opportunities, creating the roadmap for future growth vectors.'\u001b[0m\n",
       "        \u001b[1m}\u001b[0m,\n",
       "        \u001b[1m{\u001b[0m\n",
       "            \u001b[32m'index'\u001b[0m: \u001b[1;36m4\u001b[0m,\n",
       "            \u001b[32m'description'\u001b[0m: \u001b[32m'Work across Operations, Product, Sales, Engineering, and more to bring new products and services to merchants.'\u001b[0m\n",
       "        \u001b[1m}\u001b[0m\n",
       "    \u001b[1m]\u001b[0m,\n",
       "    \u001b[32m'skills'\u001b[0m: \u001b[1m[\u001b[0m\n",
       "        \u001b[1m{\u001b[0m\n",
       "            \u001b[32m'index'\u001b[0m: \u001b[1;36m1\u001b[0m,\n",
       "            \u001b[32m'skill_type'\u001b[0m: \u001b[32m'Soft Skill'\u001b[0m,\n",
       "            \u001b[32m'name'\u001b[0m: \u001b[32m'Extreme ownership'\u001b[0m,\n",
       "            \u001b[32m'proficiency_level'\u001b[0m: \u001b[32m'High'\u001b[0m\n",
       "        \u001b[1m}\u001b[0m,\n",
       "        \u001b[1m{\u001b[0m\n",
       "            \u001b[32m'index'\u001b[0m: \u001b[1;36m2\u001b[0m,\n",
       "            \u001b[32m'skill_type'\u001b[0m: \u001b[32m'Soft Skill'\u001b[0m,\n",
       "            \u001b[32m'name'\u001b[0m: \u001b[32m'Problem-solving from first principles'\u001b[0m,\n",
       "            \u001b[32m'proficiency_level'\u001b[0m: \u001b[32m'High'\u001b[0m\n",
       "        \u001b[1m}\u001b[0m,\n",
       "        \u001b[1m{\u001b[0m\n",
       "            \u001b[32m'index'\u001b[0m: \u001b[1;36m3\u001b[0m,\n",
       "            \u001b[32m'skill_type'\u001b[0m: \u001b[32m'Technical Skill'\u001b[0m,\n",
       "            \u001b[32m'name'\u001b[0m: \u001b[32m'Data analysis'\u001b[0m,\n",
       "            \u001b[32m'proficiency_level'\u001b[0m: \u001b[32m'High'\u001b[0m\n",
       "        \u001b[1m}\u001b[0m,\n",
       "        \u001b[1m{\u001b[0m\n",
       "            \u001b[32m'index'\u001b[0m: \u001b[1;36m4\u001b[0m,\n",
       "            \u001b[32m'skill_type'\u001b[0m: \u001b[32m'Soft Skill'\u001b[0m,\n",
       "            \u001b[32m'name'\u001b[0m: \u001b[32m'Effective communication'\u001b[0m,\n",
       "            \u001b[32m'proficiency_level'\u001b[0m: \u001b[32m'High'\u001b[0m\n",
       "        \u001b[1m}\u001b[0m,\n",
       "        \u001b[1m{\u001b[0m\u001b[32m'index'\u001b[0m: \u001b[1;36m5\u001b[0m, \u001b[32m'skill_type'\u001b[0m: \u001b[32m'Soft Skill'\u001b[0m, \u001b[32m'name'\u001b[0m: \u001b[32m'Urgency'\u001b[0m, \u001b[32m'proficiency_level'\u001b[0m: \u001b[32m'High'\u001b[0m\u001b[1m}\u001b[0m,\n",
       "        \u001b[1m{\u001b[0m\n",
       "            \u001b[32m'index'\u001b[0m: \u001b[1;36m6\u001b[0m,\n",
       "            \u001b[32m'skill_type'\u001b[0m: \u001b[32m'Soft Skill'\u001b[0m,\n",
       "            \u001b[32m'name'\u001b[0m: \u001b[32m'Relentlessness'\u001b[0m,\n",
       "            \u001b[32m'proficiency_level'\u001b[0m: \u001b[32m'High'\u001b[0m\n",
       "        \u001b[1m}\u001b[0m,\n",
       "        \u001b[1m{\u001b[0m\n",
       "            \u001b[32m'index'\u001b[0m: \u001b[1;36m7\u001b[0m,\n",
       "            \u001b[32m'skill_type'\u001b[0m: \u001b[32m'Technical Skill'\u001b[0m,\n",
       "            \u001b[32m'name'\u001b[0m: \u001b[32m'SQL'\u001b[0m,\n",
       "            \u001b[32m'proficiency_level'\u001b[0m: \u001b[32m'Preferred'\u001b[0m\n",
       "        \u001b[1m}\u001b[0m,\n",
       "        \u001b[1m{\u001b[0m\n",
       "            \u001b[32m'index'\u001b[0m: \u001b[1;36m8\u001b[0m,\n",
       "            \u001b[32m'skill_type'\u001b[0m: \u001b[32m'Technical Skill'\u001b[0m,\n",
       "            \u001b[32m'name'\u001b[0m: \u001b[32m'Excel'\u001b[0m,\n",
       "            \u001b[32m'proficiency_level'\u001b[0m: \u001b[32m'Preferred'\u001b[0m\n",
       "        \u001b[1m}\u001b[0m\n",
       "    \u001b[1m]\u001b[0m,\n",
       "    \u001b[32m'qualifications_required'\u001b[0m: \u001b[1m[\u001b[0m\n",
       "        \u001b[1m{\u001b[0m\n",
       "            \u001b[32m'index'\u001b[0m: \u001b[1;36m1\u001b[0m,\n",
       "            \u001b[32m'description'\u001b[0m: \u001b[32m'4-6 years of experience in a competitive, challenging environment.'\u001b[0m\n",
       "        \u001b[1m}\u001b[0m\n",
       "    \u001b[1m]\u001b[0m,\n",
       "    \u001b[32m'qualifications_preferred'\u001b[0m: \u001b[1m[\u001b[0m\n",
       "        \u001b[1m{\u001b[0m\u001b[32m'index'\u001b[0m: \u001b[1;36m1\u001b[0m, \u001b[32m'description'\u001b[0m: \u001b[32m'Experience with SQL and Excel.'\u001b[0m\u001b[1m}\u001b[0m,\n",
       "        \u001b[1m{\u001b[0m\u001b[32m'index'\u001b[0m: \u001b[1;36m2\u001b[0m, \u001b[32m'description'\u001b[0m: \u001b[32m'Experience in managing or supporting a complex P&L.'\u001b[0m\u001b[1m}\u001b[0m,\n",
       "        \u001b[1m{\u001b[0m\u001b[32m'index'\u001b[0m: \u001b[1;36m3\u001b[0m, \u001b[32m'description'\u001b[0m: \u001b[32m'Experience launching new partners or new products.'\u001b[0m\u001b[1m}\u001b[0m,\n",
       "        \u001b[1m{\u001b[0m\n",
       "            \u001b[32m'index'\u001b[0m: \u001b[1;36m4\u001b[0m,\n",
       "            \u001b[32m'description'\u001b[0m: \u001b[32m'Demonstrated interest in logistics, on-demand services, and marketplaces.'\u001b[0m\n",
       "        \u001b[1m}\u001b[0m,\n",
       "        \u001b[1m{\u001b[0m\u001b[32m'index'\u001b[0m: \u001b[1;36m5\u001b[0m, \u001b[32m'description'\u001b[0m: \u001b[32m'Experience in project management.'\u001b[0m\u001b[1m}\u001b[0m\n",
       "    \u001b[1m]\u001b[0m,\n",
       "    \u001b[32m'experience'\u001b[0m: \u001b[1m[\u001b[0m\u001b[1m]\u001b[0m,\n",
       "    \u001b[32m'benefits'\u001b[0m: \u001b[1m[\u001b[0m\n",
       "        \u001b[1m{\u001b[0m\u001b[32m'index'\u001b[0m: \u001b[1;36m1\u001b[0m, \u001b[32m'description'\u001b[0m: \u001b[32m'Leadership opportunities.'\u001b[0m\u001b[1m}\u001b[0m,\n",
       "        \u001b[1m{\u001b[0m\u001b[32m'index'\u001b[0m: \u001b[1;36m2\u001b[0m, \u001b[32m'description'\u001b[0m: \u001b[32m'Opportunity to build and create solutions.'\u001b[0m\u001b[1m}\u001b[0m,\n",
       "        \u001b[1m{\u001b[0m\u001b[32m'index'\u001b[0m: \u001b[1;36m3\u001b[0m, \u001b[32m'description'\u001b[0m: \u001b[32m'Continuous learning environment.'\u001b[0m\u001b[1m}\u001b[0m,\n",
       "        \u001b[1m{\u001b[0m\u001b[32m'index'\u001b[0m: \u001b[1;36m4\u001b[0m, \u001b[32m'description'\u001b[0m: \u001b[32m'Customer-obsessed culture.'\u001b[0m\u001b[1m}\u001b[0m,\n",
       "        \u001b[1m{\u001b[0m\u001b[32m'index'\u001b[0m: \u001b[1;36m5\u001b[0m, \u001b[32m'description'\u001b[0m: \u001b[32m'Inclusive and inspiring work environment.'\u001b[0m\u001b[1m}\u001b[0m,\n",
       "        \u001b[1m{\u001b[0m\u001b[32m'index'\u001b[0m: \u001b[1;36m6\u001b[0m, \u001b[32m'description'\u001b[0m: \u001b[32m'Competitive compensation packages.'\u001b[0m\u001b[1m}\u001b[0m,\n",
       "        \u001b[1m{\u001b[0m\u001b[32m'index'\u001b[0m: \u001b[1;36m7\u001b[0m, \u001b[32m'description'\u001b[0m: \u001b[32m'Comprehensive health benefits.'\u001b[0m\u001b[1m}\u001b[0m\n",
       "    \u001b[1m]\u001b[0m,\n",
       "    \u001b[32m'culture'\u001b[0m: \u001b[32m'DoorDash embraces a culture of leadership, doing, learning, and customer obsession. The company values inclusivity and aims to empower local economies while connecting people with possibilities.'\u001b[0m,\n",
       "    \u001b[32m'additional_requirements'\u001b[0m: \u001b[1m[\u001b[0m\u001b[1m]\u001b[0m,\n",
       "    \u001b[32m'contact_information'\u001b[0m: \u001b[3;35mNone\u001b[0m\n",
       "\u001b[1m}\u001b[0m"
      ]
     },
     "execution_count": 48,
     "metadata": {},
     "output_type": "execute_result"
    }
   ],
   "source": [
    "response.json()"
   ]
  },
  {
   "cell_type": "markdown",
   "metadata": {},
   "source": [
    "## Extract keywords"
   ]
  },
  {
   "cell_type": "code",
   "execution_count": 49,
   "metadata": {},
   "outputs": [
    {
     "data": {
      "text/html": [
       "<pre style=\"white-space:pre;overflow-x:auto;line-height:normal;font-family:Menlo,'DejaVu Sans Mono',consolas,'Courier New',monospace\"></pre>\n"
      ],
      "text/plain": []
     },
     "metadata": {},
     "output_type": "display_data"
    },
    {
     "data": {
      "text/plain": [
       "\n",
       "\u001b[1m[\u001b[0m\n",
       "    \u001b[1m{\u001b[0m\u001b[32m'index'\u001b[0m: \u001b[1;36m1\u001b[0m, \u001b[32m'description'\u001b[0m: \u001b[32m'Develop the strategy to best serve our customers.'\u001b[0m\u001b[1m}\u001b[0m,\n",
       "    \u001b[1m{\u001b[0m\n",
       "        \u001b[32m'index'\u001b[0m: \u001b[1;36m2\u001b[0m,\n",
       "        \u001b[32m'description'\u001b[0m: \u001b[32m'Work directly with internal and external partners to execute on short & long-term plans.'\u001b[0m\n",
       "    \u001b[1m}\u001b[0m,\n",
       "    \u001b[1m{\u001b[0m\n",
       "        \u001b[32m'index'\u001b[0m: \u001b[1;36m3\u001b[0m,\n",
       "        \u001b[32m'description'\u001b[0m: \u001b[32m'Develop and lead 0 to 1 opportunities, creating the roadmap for future growth vectors.'\u001b[0m\n",
       "    \u001b[1m}\u001b[0m,\n",
       "    \u001b[1m{\u001b[0m\n",
       "        \u001b[32m'index'\u001b[0m: \u001b[1;36m4\u001b[0m,\n",
       "        \u001b[32m'description'\u001b[0m: \u001b[32m'Work across Operations, Product, Sales, Engineering, and more to bring new products and services to merchants.'\u001b[0m\n",
       "    \u001b[1m}\u001b[0m\n",
       "\u001b[1m]\u001b[0m"
      ]
     },
     "execution_count": 49,
     "metadata": {},
     "output_type": "execute_result"
    }
   ],
   "source": [
    "responsibilities = response.json()['responsibilities']\n",
    "responsibilities"
   ]
  },
  {
   "cell_type": "code",
   "execution_count": 50,
   "metadata": {},
   "outputs": [],
   "source": [
    "payload_keyword = RequestPayload(\n",
    "    context=str(responsibilities),\n",
    "    model=\"gpt-4-turbo-preview\",\n",
    ")"
   ]
  },
  {
   "cell_type": "code",
   "execution_count": 51,
   "metadata": {},
   "outputs": [
    {
     "name": "stderr",
     "output_type": "stream",
     "text": [
      "2024-03-31 20:00:52,989:INFO - HTTP Request: POST http://0.0.0.0:8000/keywords/ \"HTTP/1.1 200 OK\"\n"
     ]
    },
    {
     "data": {
      "text/html": [
       "<pre style=\"white-space:pre;overflow-x:auto;line-height:normal;font-family:Menlo,'DejaVu Sans Mono',consolas,'Courier New',monospace\"></pre>\n"
      ],
      "text/plain": []
     },
     "metadata": {},
     "output_type": "display_data"
    },
    {
     "data": {
      "text/plain": [
       "\n",
       "\u001b[1m{\u001b[0m\n",
       "    \u001b[32m'keywords'\u001b[0m: \u001b[1m[\u001b[0m\n",
       "        \u001b[1m{\u001b[0m\n",
       "            \u001b[32m'keyword'\u001b[0m: \u001b[32m'strategy development'\u001b[0m,\n",
       "            \u001b[32m'source'\u001b[0m: \u001b[32m'Job Responsibility 1'\u001b[0m,\n",
       "            \u001b[32m'reasoning'\u001b[0m: \u001b[32m\"Mentioning 'strategy development' highlights the applicant's ability to plan and strategize, which is crucial for serving customers effectively.\"\u001b[0m\n",
       "        \u001b[1m}\u001b[0m,\n",
       "        \u001b[1m{\u001b[0m\n",
       "            \u001b[32m'keyword'\u001b[0m: \u001b[32m'customer service'\u001b[0m,\n",
       "            \u001b[32m'source'\u001b[0m: \u001b[32m'Job Responsibility 1'\u001b[0m,\n",
       "            \u001b[32m'reasoning'\u001b[0m: \u001b[32m\"Including 'customer service' emphasizes the applicant's focus on customer satisfaction, aligning with the goal to best serve customers.\"\u001b[0m\n",
       "        \u001b[1m}\u001b[0m,\n",
       "        \u001b[1m{\u001b[0m\n",
       "            \u001b[32m'keyword'\u001b[0m: \u001b[32m'partnership management'\u001b[0m,\n",
       "            \u001b[32m'source'\u001b[0m: \u001b[32m'Job Responsibility 2'\u001b[0m,\n",
       "            \u001b[32m'reasoning'\u001b[0m: \u001b[32m\"'Partnership management' indicates the applicant's capability to collaborate with both internal and external partners, which is essential for executing plans.\"\u001b[0m\n",
       "        \u001b[1m}\u001b[0m,\n",
       "        \u001b[1m{\u001b[0m\n",
       "            \u001b[32m'keyword'\u001b[0m: \u001b[32m'project execution'\u001b[0m,\n",
       "            \u001b[32m'source'\u001b[0m: \u001b[32m'Job Responsibility 2'\u001b[0m,\n",
       "            \u001b[32m'reasoning'\u001b[0m: \u001b[32m\"'Project execution' showcases the applicant's skill in implementing plans, a key aspect of working with partners on various projects.\"\u001b[0m\n",
       "        \u001b[1m}\u001b[0m,\n",
       "        \u001b[1m{\u001b[0m\n",
       "            \u001b[32m'keyword'\u001b[0m: \u001b[32m'leadership'\u001b[0m,\n",
       "            \u001b[32m'source'\u001b[0m: \u001b[32m'Job Responsibility 3'\u001b[0m,\n",
       "            \u001b[32m'reasoning'\u001b[0m: \u001b[32m\"Including 'leadership' demonstrates the applicant's ability to lead and manage projects, particularly in developing new opportunities.\"\u001b[0m\n",
       "        \u001b[1m}\u001b[0m,\n",
       "        \u001b[1m{\u001b[0m\n",
       "            \u001b[32m'keyword'\u001b[0m: \u001b[32m'roadmap development'\u001b[0m,\n",
       "            \u001b[32m'source'\u001b[0m: \u001b[32m'Job Responsibility 3'\u001b[0m,\n",
       "            \u001b[32m'reasoning'\u001b[0m: \u001b[32m\"'Roadmap development' signifies the applicant's skill in planning and outlining future growth, an important part of leading 0 to 1 opportunities.\"\u001b[0m\n",
       "        \u001b[1m}\u001b[0m,\n",
       "        \u001b[1m{\u001b[0m\n",
       "            \u001b[32m'keyword'\u001b[0m: \u001b[32m'cross-functional collaboration'\u001b[0m,\n",
       "            \u001b[32m'source'\u001b[0m: \u001b[32m'Job Responsibility 4'\u001b[0m,\n",
       "            \u001b[32m'reasoning'\u001b[0m: \u001b[32m\"'Cross-functional collaboration' highlights the applicant's ability to work across different departments, crucial for bringing new products and services to market.\"\u001b[0m\n",
       "        \u001b[1m}\u001b[0m,\n",
       "        \u001b[1m{\u001b[0m\n",
       "            \u001b[32m'keyword'\u001b[0m: \u001b[32m'product development'\u001b[0m,\n",
       "            \u001b[32m'source'\u001b[0m: \u001b[32m'Job Responsibility 4'\u001b[0m,\n",
       "            \u001b[32m'reasoning'\u001b[0m: \u001b[32m\"Including 'product development' shows the applicant's involvement in creating new products, aligning with the responsibility of introducing new offerings to merchants.\"\u001b[0m\n",
       "        \u001b[1m}\u001b[0m\n",
       "    \u001b[1m]\u001b[0m\n",
       "\u001b[1m}\u001b[0m"
      ]
     },
     "execution_count": 51,
     "metadata": {},
     "output_type": "execute_result"
    }
   ],
   "source": [
    "response_keyword = api_.post(\"/keywords/\", data=payload_keyword.model_dump_json())\n",
    "\n",
    "response_keyword.json()"
   ]
  },
  {
   "cell_type": "markdown",
   "metadata": {},
   "source": [
    "## Resume recommendations"
   ]
  },
  {
   "cell_type": "code",
   "execution_count": 11,
   "metadata": {},
   "outputs": [],
   "source": [
    "from langchain.document_loaders import PyPDFLoader"
   ]
  },
  {
   "cell_type": "code",
   "execution_count": 4,
   "metadata": {},
   "outputs": [],
   "source": [
    "from supabase import create_client, Client\n",
    "\n",
    "supabase: Client = create_client(\n",
    "    supabase_url=os.getenv(\"SUPABASE_URL\"),\n",
    "    supabase_key=os.getenv(\"SUPABASE_KEY_SERVICE_ROLE\"),\n",
    ")"
   ]
  },
  {
   "cell_type": "code",
   "execution_count": 5,
   "metadata": {},
   "outputs": [
    {
     "data": {
      "text/html": [
       "<pre style=\"white-space:pre;overflow-x:auto;line-height:normal;font-family:Menlo,'DejaVu Sans Mono',consolas,'Courier New',monospace\"></pre>\n"
      ],
      "text/plain": []
     },
     "metadata": {},
     "output_type": "display_data"
    },
    {
     "data": {
      "text/plain": [
       "\u001b[1m<\u001b[0m\u001b[1;95msupabase._sync.client.SyncClient\u001b[0m\u001b[39m object at \u001b[0m\u001b[1;36m0x10c68dc10\u001b[0m\u001b[1m>\u001b[0m"
      ]
     },
     "execution_count": 5,
     "metadata": {},
     "output_type": "execute_result"
    }
   ],
   "source": [
    "supabase"
   ]
  },
  {
   "cell_type": "code",
   "execution_count": 40,
   "metadata": {},
   "outputs": [],
   "source": [
    "def loadResume(file_id: str):\n",
    "    file_path = supabase.storage.from_(\"resume\").create_signed_url(\n",
    "        file_id, expires_in=3600\n",
    "    )[\"signedURL\"]\n",
    "\n",
    "    loader = PyPDFLoader(file_path)\n",
    "\n",
    "    document = loader.load()\n",
    "\n",
    "    return document"
   ]
  },
  {
   "cell_type": "code",
   "execution_count": 41,
   "metadata": {},
   "outputs": [
    {
     "name": "stderr",
     "output_type": "stream",
     "text": [
      "2024-03-31 19:58:31,464:INFO - HTTP Request: POST https://grgpswdrjfpbpnfohywt.supabase.co/storage/v1/object/sign/resume/ce879317-86c4-412e-9751-b41ff2ebb208 \"HTTP/1.1 200 OK\"\n"
     ]
    },
    {
     "data": {
      "text/html": [
       "<pre style=\"white-space:pre;overflow-x:auto;line-height:normal;font-family:Menlo,'DejaVu Sans Mono',consolas,'Courier New',monospace\"></pre>\n"
      ],
      "text/plain": []
     },
     "metadata": {},
     "output_type": "display_data"
    },
    {
     "data": {
      "text/plain": [
       "\n",
       "\u001b[1m[\u001b[0m\n",
       "    \u001b[1;35mDocument\u001b[0m\u001b[1m(\u001b[0m\n",
       "        \u001b[33mpage_content\u001b[0m=\u001b[32m'Lakshya Prakash Agarwal   \\n \u001b[0m\u001b[32m(\u001b[0m\u001b[32m514\u001b[0m\u001b[32m)\u001b[0m\u001b[32m 258-6712  • lakshya.agarwal@mail.mcgill.ca  • LinkedIn  • GitHub  • Website  \\nEDUCATION     \\nMcGill University, Desautels Faculty of Management  Montreal, Canada   \\nMaster  of Management in Analytics ; GPA: 3.87/4.00; Top 5% among 80+ students  July 2023 – Aug 2024  \\n• Received an entrance scholarship of $8K and a Director’s Award of $2K  \\n• Tutored 10+ classmates in understanding complex optimization concepts through clear explanations and practical examples  \\n• Courses: Text Analytics,  Optimization for Data Science, Multivariate Statistics, Decision Analytics, Enterprise DS and ML in Production,   \\nDelhi University , Hans  Raj College  New Delhi, India   \\nBachelor of Arts, Concentration in Economics ; GPA: 8.92/10; Top 5% among 100+ students  July 2017 – Aug 2020 \\n• Courses:  Microeconomics, Macroeconomics, Econometrics, Business Statistics, International Trade, Financial Instruments   \\nPROFESSIONAL  EXPERIENCE   \\nMcGill University – UMass Boston  Montreal, Canada  \\nResearch Assistant \u001b[0m\u001b[32m(\u001b[0m\u001b[32m3x\u001b[0m\u001b[32m)\u001b[0m\u001b[32m  Sept 2023 – Present  \\n• Conducted structured sentiment analysis using OpenAI’s GPT -4 on 250K+ social media posts regarding abortion viewpoints , yielding key \\ninsights for a pivotal UMass Boston research initiative  \\n• Orchestrated a high -volume data analytics pipeline for 300K+ Instagram posts , from data scraping via APIs to advanced deep learning tasks \\nsuch as NLP for topic modelling and Computer Vision for image attribute extraction  \\n• Optimized the UX for the Data Mangrove sustainability project , enhancing data collection, tracking, and strategic tools for endangered monkey \\nconservation efforts in Costa Rica.   \\nBain & Company – Bain Capability Network  Gurugram , India \\nAssociate, Private Equity \u001b[0m\u001b[32m(\u001b[0m\u001b[32mPE\u001b[0m\u001b[32m)\u001b[0m\u001b[32m Americas  Apr 2022 – May 2023 \\nSenior Analyst, Private Equity \u001b[0m\u001b[32m(\u001b[0m\u001b[32mPE\u001b[0m\u001b[32m)\u001b[0m\u001b[32m Americas  Apr 2021 – Mar 2022  \\nAnalyst, Private Equity  \u001b[0m\u001b[32m(\u001b[0m\u001b[32mPE\u001b[0m\u001b[32m)\u001b[0m\u001b[32m Americas  Sept 2020 – Mar 2021  \\n• Spearheaded the development of GenAI solutions using Large Language Models for extensive  sentiment classification, increasing operational \\nefficiency by ~50% on pilot customer sentiment analysis cases  \\n• Pioneered and automat ed retail analytics  using Python  and Alteryx  on Nielsen IQ point -of-sale \u001b[0m\u001b[32m(\u001b[0m\u001b[32mPOS\u001b[0m\u001b[32m)\u001b[0m\u001b[32m data, saving the practice ~150 \\nhours /month  and elevating client Net Promoter Score \u001b[0m\u001b[32m(\u001b[0m\u001b[32mNPS\u001b[0m\u001b[32m)\u001b[0m\u001b[32m to 90% ; Nominated “Star Innovator” among 800+ employees at annual awards  \\n• Designed & analyzed over 50 surveys through 10+ consumer behavior metrics covering brand awareness, NPS, key purchase criteri a across \\nindustries, helping PE clients with investment decisions and generating ~2.8X average return  \\n• Collaborated and coordinated with multi -disciplinary teams of analysts, consultants, clients , and industry experts to conduct a due diligence  on \\nmarket landscape, competitive pressure and regulatory hurdles  across 3 geographies , helping drive decisions for $23B AUM PE client  \\n• Coached 100+ new hires in ~5 practice -wide trainings on Excel and Tableau , aiding in a team growth of ~50% within 1.5 years ; organized a \\n50+ member community for cod e challenges   \\nNITI Aayog, Government of India \u001b[0m\u001b[32m(\u001b[0m\u001b[32mapex public policy think tank of G ovt. of India \u001b[0m\u001b[32m)\u001b[0m\u001b[32m New Delhi, India  \\nPolicy Research Intern, Infrastructure Connectivity  June 2019 – Aug 2019  \\n• Conducted data analysis on 5-year average monthly ridership for Delhi Metro , quantif ying the impact of fare increases on its ~1 bn annual \\ncommuters; presented data-driven policy recommendations to the Chief Minister of Delhi for public affordability   \\nACADEMIC PROJECTS   \\nCAE Inc.  Montreal, Canada  \\nArchitect / Team Lead – Student Consultant  Sept 2023 – Present  \\n• Developed and implemented ETL solutions for fragmented bill -of-materials data, leveraging network analysis and clustering tools to propose \\nstrategies for turnkey/kitting of components  \\n• Steered  a team of 6 students in a high impact  consulting project, efficiently planning milestones,  and guiding the team towards success, and \\nmaintained active communication with the client to align project objectives with their needs  \\nCourse Projects  Jul 2023 – Present  \\n• Engineered a Python -based solution for a Vehicle Routing Problem, optimizing public transit disaster evacuation routes for the Société de \\ntransport de Montréal \u001b[0m\u001b[32m(\u001b[0m\u001b[32mSTM\u001b[0m\u001b[32m)\u001b[0m\u001b[32m using Mixed Integer Linear Program \u001b[0m\u001b[32m(\u001b[0m\u001b[32mMILP\u001b[0m\u001b[32m)\u001b[0m\u001b[32m techniques , Gurobi solver , and St reamlit  \\n• Developed a machine learning \u001b[0m\u001b[32m(\u001b[0m\u001b[32mML\u001b[0m\u001b[32m)\u001b[0m\u001b[32m model using Gradient Boosting Trees \u001b[0m\u001b[32m(\u001b[0m\u001b[32mXGBoost\u001b[0m\u001b[32m)\u001b[0m\u001b[32m, predicting Airbnb listing prices across 5 ci ties, helping \\nhosts in identifying competitive prices for their listings, and guests in finding value stays   \\nCOMPETITIONS AND EXTRACURRICULAR  PROJECTS   \\n• Achieved 1st place among 8 + teams in the Databricks & Compass Analytics Hackathon challenge , predicting score margins for the latest NBA \\nseason using machine learning tools such as AutoML , MLflow, and Unity Catalog on the Databricks platform  \\n• Awarded \"Best Overall Project\" at “AI EarthHack” hosted by D^3 Harvard & Microsoft, surpassing 150+ global university teams, by creating a \\nGenerative AI tool  using Python for critical analysis and evaluation of business models for venture capitalists.  \\n• Built a custom transformer language model \u001b[0m\u001b[32m(\u001b[0m\u001b[32mGPT -2 equivalent\u001b[0m\u001b[32m)\u001b[0m\u001b[32m from scratch, learning about key concepts such as regular expressions, \\nembeddings, attention mechanism, layer stacking and normalization, and the encoder -decoder architecture   \\nSKILL S   \\n• Technical Skills: Python  \u001b[0m\u001b[32m(\u001b[0m\u001b[32mpandas, numpy, pytorch, scikit -learn, networkx , mlflow \u001b[0m\u001b[32m)\u001b[0m\u001b[32m, SQL, R, JavaScript , Databricks, Tableau, PowerBI, Git, \\nApache Airflow, Spark, Alteryx , Microsoft Office  \\n• Languages: English \u001b[0m\u001b[32m(\u001b[0m\u001b[32mfluent\u001b[0m\u001b[32m)\u001b[0m\u001b[32m, Hindi \u001b[0m\u001b[32m(\u001b[0m\u001b[32mfluent\u001b[0m\u001b[32m)\u001b[0m\u001b[32m, French  \u001b[0m\u001b[32m(\u001b[0m\u001b[32mbasic \u001b[0m\u001b[32m)\u001b[0m\u001b[32m '\u001b[0m,\n",
       "        \u001b[33mmetadata\u001b[0m=\u001b[1m{\u001b[0m\n",
       "            \u001b[32m'source'\u001b[0m: \u001b[32m'https://grgpswdrjfpbpnfohywt.supabase.co/storage/v1/object/sign/resume/ce879317-86c4-412e-9751-b41ff2ebb208?\u001b[0m\u001b[32mtoken\u001b[0m\u001b[32m=\u001b[0m\u001b[32meyJhbGciOiJIUzI1NiIsInR5cCI6IkpXVCJ9\u001b[0m\u001b[32m.eyJ1cmwiOiJyZXN1bWUvY2U4NzkzMTctODZjNC00MTJlLTk3NTEtYjQxZmYyZWJiMjA4IiwiaWF0IjoxNzExOTI5NTExLCJleHAiOjE3MTE5MzMxMTF9.dCDX7Y13bcy5756VNHLFXsmWd0QlgSM5G9o8L3zwgR0'\u001b[0m,\n",
       "            \u001b[32m'page'\u001b[0m: \u001b[1;36m0\u001b[0m\n",
       "        \u001b[1m}\u001b[0m\n",
       "    \u001b[1m)\u001b[0m\n",
       "\u001b[1m]\u001b[0m"
      ]
     },
     "execution_count": 41,
     "metadata": {},
     "output_type": "execute_result"
    }
   ],
   "source": [
    "document = loadResume(\"ce879317-86c4-412e-9751-b41ff2ebb208\")\n",
    "document"
   ]
  },
  {
   "cell_type": "code",
   "execution_count": 42,
   "metadata": {},
   "outputs": [
    {
     "data": {
      "text/html": [
       "<pre style=\"white-space:pre;overflow-x:auto;line-height:normal;font-family:Menlo,'DejaVu Sans Mono',consolas,'Courier New',monospace\"></pre>\n"
      ],
      "text/plain": []
     },
     "metadata": {},
     "output_type": "display_data"
    },
    {
     "data": {
      "text/plain": [
       "\n",
       "\u001b[1m[\u001b[0m\n",
       "    \u001b[32m'Lakshya Prakash Agarwal   \\n \u001b[0m\u001b[32m(\u001b[0m\u001b[32m514\u001b[0m\u001b[32m)\u001b[0m\u001b[32m 258-6712  • lakshya.agarwal@mail.mcgill.ca  • LinkedIn  • GitHub  • Website  \\nEDUCATION     \\nMcGill University, Desautels Faculty of Management  Montreal, Canada   \\nMaster  of Management in Analytics ; GPA: 3.87/4.00; Top 5% among 80+ students  July 2023 – Aug 2024  \\n• Received an entrance scholarship of $8K and a Director’s Award of $2K  \\n• Tutored 10+ classmates in understanding complex optimization concepts through clear explanations and practical examples  \\n• Courses: Text Analytics,  Optimization for Data Science, Multivariate Statistics, Decision Analytics, Enterprise DS and ML in Production,   \\nDelhi University , Hans  Raj College  New Delhi, India   \\nBachelor of Arts, Concentration in Economics ; GPA: 8.92/10; Top 5% among 100+ students  July 2017 – Aug 2020 \\n• Courses:  Microeconomics, Macroeconomics, Econometrics, Business Statistics, International Trade, Financial Instruments   \\nPROFESSIONAL  EXPERIENCE   \\nMcGill University – UMass Boston  Montreal, Canada  \\nResearch Assistant \u001b[0m\u001b[32m(\u001b[0m\u001b[32m3x\u001b[0m\u001b[32m)\u001b[0m\u001b[32m  Sept 2023 – Present  \\n• Conducted structured sentiment analysis using OpenAI’s GPT -4 on 250K+ social media posts regarding abortion viewpoints , yielding key \\ninsights for a pivotal UMass Boston research initiative  \\n• Orchestrated a high -volume data analytics pipeline for 300K+ Instagram posts , from data scraping via APIs to advanced deep learning tasks \\nsuch as NLP for topic modelling and Computer Vision for image attribute extraction  \\n• Optimized the UX for the Data Mangrove sustainability project , enhancing data collection, tracking, and strategic tools for endangered monkey \\nconservation efforts in Costa Rica.   \\nBain & Company – Bain Capability Network  Gurugram , India \\nAssociate, Private Equity \u001b[0m\u001b[32m(\u001b[0m\u001b[32mPE\u001b[0m\u001b[32m)\u001b[0m\u001b[32m Americas  Apr 2022 – May 2023 \\nSenior Analyst, Private Equity \u001b[0m\u001b[32m(\u001b[0m\u001b[32mPE\u001b[0m\u001b[32m)\u001b[0m\u001b[32m Americas  Apr 2021 – Mar 2022  \\nAnalyst, Private Equity  \u001b[0m\u001b[32m(\u001b[0m\u001b[32mPE\u001b[0m\u001b[32m)\u001b[0m\u001b[32m Americas  Sept 2020 – Mar 2021  \\n• Spearheaded the development of GenAI solutions using Large Language Models for extensive  sentiment classification, increasing operational \\nefficiency by ~50% on pilot customer sentiment analysis cases  \\n• Pioneered and automat ed retail analytics  using Python  and Alteryx  on Nielsen IQ point -of-sale \u001b[0m\u001b[32m(\u001b[0m\u001b[32mPOS\u001b[0m\u001b[32m)\u001b[0m\u001b[32m data, saving the practice ~150 \\nhours /month  and elevating client Net Promoter Score \u001b[0m\u001b[32m(\u001b[0m\u001b[32mNPS\u001b[0m\u001b[32m)\u001b[0m\u001b[32m to 90% ; Nominated “Star Innovator” among 800+ employees at annual awards  \\n• Designed & analyzed over 50 surveys through 10+ consumer behavior metrics covering brand awareness, NPS, key purchase criteri a across \\nindustries, helping PE clients with investment decisions and generating ~2.8X average return  \\n• Collaborated and coordinated with multi -disciplinary teams of analysts, consultants, clients , and industry experts to conduct a due diligence  on \\nmarket landscape, competitive pressure and regulatory hurdles  across 3 geographies , helping drive decisions for $23B AUM PE client  \\n• Coached 100+ new hires in ~5 practice -wide trainings on Excel and Tableau , aiding in a team growth of ~50% within 1.5 years ; organized a \\n50+ member community for cod e challenges   \\nNITI Aayog, Government of India \u001b[0m\u001b[32m(\u001b[0m\u001b[32mapex public policy think tank of G ovt. of India \u001b[0m\u001b[32m)\u001b[0m\u001b[32m New Delhi, India  \\nPolicy Research Intern, Infrastructure Connectivity  June 2019 – Aug 2019  \\n• Conducted data analysis on 5-year average monthly ridership for Delhi Metro , quantif ying the impact of fare increases on its ~1 bn annual \\ncommuters; presented data-driven policy recommendations to the Chief Minister of Delhi for public affordability   \\nACADEMIC PROJECTS   \\nCAE Inc.  Montreal, Canada  \\nArchitect / Team Lead – Student Consultant  Sept 2023 – Present  \\n• Developed and implemented ETL solutions for fragmented bill -of-materials data, leveraging network analysis and clustering tools to propose \\nstrategies for turnkey/kitting of components  \\n• Steered  a team of 6 students in a high impact  consulting project, efficiently planning milestones,  and guiding the team towards success, and \\nmaintained active communication with the client to align project objectives with their needs  \\nCourse Projects  Jul 2023 – Present  \\n• Engineered a Python -based solution for a Vehicle Routing Problem, optimizing public transit disaster evacuation routes for the Société de \\ntransport de Montréal \u001b[0m\u001b[32m(\u001b[0m\u001b[32mSTM\u001b[0m\u001b[32m)\u001b[0m\u001b[32m using Mixed Integer Linear Program \u001b[0m\u001b[32m(\u001b[0m\u001b[32mMILP\u001b[0m\u001b[32m)\u001b[0m\u001b[32m techniques , Gurobi solver , and St reamlit  \\n• Developed a machine learning \u001b[0m\u001b[32m(\u001b[0m\u001b[32mML\u001b[0m\u001b[32m)\u001b[0m\u001b[32m model using Gradient Boosting Trees \u001b[0m\u001b[32m(\u001b[0m\u001b[32mXGBoost\u001b[0m\u001b[32m)\u001b[0m\u001b[32m, predicting Airbnb listing prices across 5 ci ties, helping \\nhosts in identifying competitive prices for their listings, and guests in finding value stays   \\nCOMPETITIONS AND EXTRACURRICULAR  PROJECTS   \\n• Achieved 1st place among 8 + teams in the Databricks & Compass Analytics Hackathon challenge , predicting score margins for the latest NBA \\nseason using machine learning tools such as AutoML , MLflow, and Unity Catalog on the Databricks platform  \\n• Awarded \"Best Overall Project\" at “AI EarthHack” hosted by D^3 Harvard & Microsoft, surpassing 150+ global university teams, by creating a \\nGenerative AI tool  using Python for critical analysis and evaluation of business models for venture capitalists.  \\n• Built a custom transformer language model \u001b[0m\u001b[32m(\u001b[0m\u001b[32mGPT -2 equivalent\u001b[0m\u001b[32m)\u001b[0m\u001b[32m from scratch, learning about key concepts such as regular expressions, \\nembeddings, attention mechanism, layer stacking and normalization, and the encoder -decoder architecture   \\nSKILL S   \\n• Technical Skills: Python  \u001b[0m\u001b[32m(\u001b[0m\u001b[32mpandas, numpy, pytorch, scikit -learn, networkx , mlflow \u001b[0m\u001b[32m)\u001b[0m\u001b[32m, SQL, R, JavaScript , Databricks, Tableau, PowerBI, Git, \\nApache Airflow, Spark, Alteryx , Microsoft Office  \\n• Languages: English \u001b[0m\u001b[32m(\u001b[0m\u001b[32mfluent\u001b[0m\u001b[32m)\u001b[0m\u001b[32m, Hindi \u001b[0m\u001b[32m(\u001b[0m\u001b[32mfluent\u001b[0m\u001b[32m)\u001b[0m\u001b[32m, French  \u001b[0m\u001b[32m(\u001b[0m\u001b[32mbasic \u001b[0m\u001b[32m)\u001b[0m\u001b[32m '\u001b[0m\n",
       "\u001b[1m]\u001b[0m"
      ]
     },
     "execution_count": 42,
     "metadata": {},
     "output_type": "execute_result"
    }
   ],
   "source": [
    "page_contents = [page.page_content for page in document]\n",
    "page_contents"
   ]
  },
  {
   "cell_type": "code",
   "execution_count": 44,
   "metadata": {},
   "outputs": [],
   "source": [
    "class Recommendation(BaseModel):\n",
    "    original_sentence: str = Field(\n",
    "        ...,\n",
    "        title=\"Original Sentence\",\n",
    "        description=\"The original sentence from the resume\",\n",
    "    )\n",
    "\n",
    "    updated_sentence: Optional[str] = Field(\n",
    "        None,\n",
    "        title=\"Updated Sentence\",\n",
    "        description=\"The updated sentence with the recommendation\",\n",
    "    )\n",
    "\n",
    "class Recommendations(BaseModel):\n",
    "    recommendations: list[Recommendation] = Field(\n",
    "        ...,\n",
    "        title=\"Recommendations\",\n",
    "        description=\"The list of recommendations for the resume. If there are no recommendations, the list will be empty.\",\n",
    "    )\n"
   ]
  },
  {
   "cell_type": "code",
   "execution_count": 69,
   "metadata": {},
   "outputs": [
    {
     "data": {
      "text/html": [
       "<pre style=\"white-space:pre;overflow-x:auto;line-height:normal;font-family:Menlo,'DejaVu Sans Mono',consolas,'Courier New',monospace\"></pre>\n"
      ],
      "text/plain": []
     },
     "metadata": {},
     "output_type": "display_data"
    },
    {
     "data": {
      "text/plain": [
       "\n",
       "\u001b[1m[\u001b[0m\n",
       "    \u001b[1m{\u001b[0m\n",
       "        \u001b[32m'role'\u001b[0m: \u001b[32m'system'\u001b[0m,\n",
       "        \u001b[32m'content'\u001b[0m: \u001b[32m'Please provide recommendations for the resume. Strip away additional formatting.'\u001b[0m\n",
       "    \u001b[1m}\u001b[0m,\n",
       "    \u001b[1m{\u001b[0m\n",
       "        \u001b[32m'role'\u001b[0m: \u001b[32m'user'\u001b[0m,\n",
       "        \u001b[32m'content'\u001b[0m: \u001b[32m'\u001b[0m\u001b[32m[\u001b[0m\u001b[32m\\'Lakshya Prakash Agarwal   \\\\n \u001b[0m\u001b[32m(\u001b[0m\u001b[32m514\u001b[0m\u001b[32m)\u001b[0m\u001b[32m 258-6712  • lakshya.agarwal@mail.mcgill.ca  • LinkedIn  • GitHub  • Website  \\\\nEDUCATION     \\\\nMcGill University, Desautels Faculty of Management  Montreal, Canada   \\\\nMaster  of Management in Analytics ; GPA: 3.87/4.00; Top 5% among 80+ students  July 2023 – Aug 2024  \\\\n• Received an entrance scholarship of $8K and a Director’s Award of $2K  \\\\n• Tutored 10+ classmates in understanding complex optimization concepts through clear explanations and practical examples  \\\\n• Courses: Text Analytics,  Optimization for Data Science, Multivariate Statistics, Decision Analytics, Enterprise DS and ML in Production,   \\\\nDelhi University , Hans  Raj College  New Delhi, India   \\\\nBachelor of Arts, Concentration in Economics ; GPA: 8.92/10; Top 5% among 100+ students  July 2017 – Aug 2020 \\\\n• Courses:  Microeconomics, Macroeconomics, Econometrics, Business Statistics, International Trade, Financial Instruments   \\\\nPROFESSIONAL  EXPERIENCE   \\\\nMcGill University – UMass Boston  Montreal, Canada  \\\\nResearch Assistant \u001b[0m\u001b[32m(\u001b[0m\u001b[32m3x\u001b[0m\u001b[32m)\u001b[0m\u001b[32m  Sept 2023 – Present  \\\\n• Conducted structured sentiment analysis using OpenAI’s GPT -4 on 250K+ social media posts regarding abortion viewpoints , yielding key \\\\ninsights for a pivotal UMass Boston research initiative  \\\\n• Orchestrated a high -volume data analytics pipeline for 300K+ Instagram posts , from data scraping via APIs to advanced deep learning tasks \\\\nsuch as NLP for topic modelling and Computer Vision for image attribute extraction  \\\\n• Optimized the UX for the Data Mangrove sustainability project , enhancing data collection, tracking, and strategic tools for endangered monkey \\\\nconservation efforts in Costa Rica.   \\\\nBain & Company – Bain Capability Network  Gurugram , India \\\\nAssociate, Private Equity \u001b[0m\u001b[32m(\u001b[0m\u001b[32mPE\u001b[0m\u001b[32m)\u001b[0m\u001b[32m Americas  Apr 2022 – May 2023 \\\\nSenior Analyst, Private Equity \u001b[0m\u001b[32m(\u001b[0m\u001b[32mPE\u001b[0m\u001b[32m)\u001b[0m\u001b[32m Americas  Apr 2021 – Mar 2022  \\\\nAnalyst, Private Equity  \u001b[0m\u001b[32m(\u001b[0m\u001b[32mPE\u001b[0m\u001b[32m)\u001b[0m\u001b[32m Americas  Sept 2020 – Mar 2021  \\\\n• Spearheaded the development of GenAI solutions using Large Language Models for extensive  sentiment classification, increasing operational \\\\nefficiency by ~50% on pilot customer sentiment analysis cases  \\\\n• Pioneered and automat ed retail analytics  using Python  and Alteryx  on Nielsen IQ point -of-sale \u001b[0m\u001b[32m(\u001b[0m\u001b[32mPOS\u001b[0m\u001b[32m)\u001b[0m\u001b[32m data, saving the practice ~150 \\\\nhours /month  and elevating client Net Promoter Score \u001b[0m\u001b[32m(\u001b[0m\u001b[32mNPS\u001b[0m\u001b[32m)\u001b[0m\u001b[32m to 90% ; Nominated “Star Innovator” among 800+ employees at annual awards  \\\\n• Designed & analyzed over 50 surveys through 10+ consumer behavior metrics covering brand awareness, NPS, key purchase criteri a across \\\\nindustries, helping PE clients with investment decisions and generating ~2.8X average return  \\\\n• Collaborated and coordinated with multi -disciplinary teams of analysts, consultants, clients , and industry experts to conduct a due diligence  on \\\\nmarket landscape, competitive pressure and regulatory hurdles  across 3 geographies , helping drive decisions for $23B AUM PE client  \\\\n• Coached 100+ new hires in ~5 practice -wide trainings on Excel and Tableau , aiding in a team growth of ~50% within 1.5 years ; organized a \\\\n50+ member community for cod e challenges   \\\\nNITI Aayog, Government of India \u001b[0m\u001b[32m(\u001b[0m\u001b[32mapex public policy think tank of G ovt. of India \u001b[0m\u001b[32m)\u001b[0m\u001b[32m New Delhi, India  \\\\nPolicy Research Intern, Infrastructure Connectivity  June 2019 – Aug 2019  \\\\n• Conducted data analysis on 5-year average monthly ridership for Delhi Metro , quantif ying the impact of fare increases on its ~1 bn annual \\\\ncommuters; presented data-driven policy recommendations to the Chief Minister of Delhi for public affordability   \\\\nACADEMIC PROJECTS   \\\\nCAE Inc.  Montreal, Canada  \\\\nArchitect / Team Lead – Student Consultant  Sept 2023 – Present  \\\\n• Developed and implemented ETL solutions for fragmented bill -of-materials data, leveraging network analysis and clustering tools to propose \\\\nstrategies for turnkey/kitting of components  \\\\n• Steered  a team of 6 students in a high impact  consulting project, efficiently planning milestones,  and guiding the team towards success, and \\\\nmaintained active communication with the client to align project objectives with their needs  \\\\nCourse Projects  Jul 2023 – Present  \\\\n• Engineered a Python -based solution for a Vehicle Routing Problem, optimizing public transit disaster evacuation routes for the Société de \\\\ntransport de Montréal \u001b[0m\u001b[32m(\u001b[0m\u001b[32mSTM\u001b[0m\u001b[32m)\u001b[0m\u001b[32m using Mixed Integer Linear Program \u001b[0m\u001b[32m(\u001b[0m\u001b[32mMILP\u001b[0m\u001b[32m)\u001b[0m\u001b[32m techniques , Gurobi solver , and St reamlit  \\\\n• Developed a machine learning \u001b[0m\u001b[32m(\u001b[0m\u001b[32mML\u001b[0m\u001b[32m)\u001b[0m\u001b[32m model using Gradient Boosting Trees \u001b[0m\u001b[32m(\u001b[0m\u001b[32mXGBoost\u001b[0m\u001b[32m)\u001b[0m\u001b[32m, predicting Airbnb listing prices across 5 ci ties, helping \\\\nhosts in identifying competitive prices for their listings, and guests in finding value stays   \\\\nCOMPETITIONS AND EXTRACURRICULAR  PROJECTS   \\\\n• Achieved 1st place among 8 + teams in the Databricks & Compass Analytics Hackathon challenge , predicting score margins for the latest NBA \\\\nseason using machine learning tools such as AutoML , MLflow, and Unity Catalog on the Databricks platform  \\\\n• Awarded \"Best Overall Project\" at “AI EarthHack” hosted by D^3 Harvard & Microsoft, surpassing 150+ global university teams, by creating a \\\\nGenerative AI tool  using Python for critical analysis and evaluation of business models for venture capitalists.  \\\\n• Built a custom transformer language model \u001b[0m\u001b[32m(\u001b[0m\u001b[32mGPT -2 equivalent\u001b[0m\u001b[32m)\u001b[0m\u001b[32m from scratch, learning about key concepts such as regular expressions, \\\\nembeddings, attention mechanism, layer stacking and normalization, and the encoder -decoder architecture   \\\\nSKILL S   \\\\n• Technical Skills: Python  \u001b[0m\u001b[32m(\u001b[0m\u001b[32mpandas, numpy, pytorch, scikit -learn, networkx , mlflow \u001b[0m\u001b[32m)\u001b[0m\u001b[32m, SQL, R, JavaScript , Databricks, Tableau, PowerBI, Git, \\\\nApache Airflow, Spark, Alteryx , Microsoft Office  \\\\n• Languages: English \u001b[0m\u001b[32m(\u001b[0m\u001b[32mfluent\u001b[0m\u001b[32m)\u001b[0m\u001b[32m, Hindi \u001b[0m\u001b[32m(\u001b[0m\u001b[32mfluent\u001b[0m\u001b[32m)\u001b[0m\u001b[32m, French  \u001b[0m\u001b[32m(\u001b[0m\u001b[32mbasic \u001b[0m\u001b[32m)\u001b[0m\u001b[32m \\'\u001b[0m\u001b[32m]\u001b[0m\u001b[32m'\u001b[0m\n",
       "    \u001b[1m}\u001b[0m,\n",
       "    \u001b[1m{\u001b[0m\n",
       "        \u001b[32m'role'\u001b[0m: \u001b[32m'user'\u001b[0m,\n",
       "        \u001b[32m'content'\u001b[0m: \u001b[32m'\u001b[0m\u001b[32m{\u001b[0m\u001b[32m\\'keywords\\': \u001b[0m\u001b[32m[\u001b[0m\u001b[32m{\u001b[0m\u001b[32m\\'keyword\\': \\'strategy development\\', \\'source\\': \\'Job Responsibility 1\\', \\'reasoning\\': \"Mentioning \\'strategy development\\' highlights the applicant\\'s ability to plan and strategize, which is crucial for serving customers effectively.\"\u001b[0m\u001b[32m}\u001b[0m\u001b[32m, \u001b[0m\u001b[32m{\u001b[0m\u001b[32m\\'keyword\\': \\'customer service\\', \\'source\\': \\'Job Responsibility 1\\', \\'reasoning\\': \"Including \\'customer service\\' emphasizes the applicant\\'s focus on customer satisfaction, aligning with the goal to best serve customers.\"\u001b[0m\u001b[32m}\u001b[0m\u001b[32m, \u001b[0m\u001b[32m{\u001b[0m\u001b[32m\\'keyword\\': \\'partnership management\\', \\'source\\': \\'Job Responsibility 2\\', \\'reasoning\\': \"\\'Partnership management\\' indicates the applicant\\'s capability to collaborate with both internal and external partners, which is essential for executing plans.\"\u001b[0m\u001b[32m}\u001b[0m\u001b[32m, \u001b[0m\u001b[32m{\u001b[0m\u001b[32m\\'keyword\\': \\'project execution\\', \\'source\\': \\'Job Responsibility 2\\', \\'reasoning\\': \"\\'Project execution\\' showcases the applicant\\'s skill in implementing plans, a key aspect of working with partners on various projects.\"\u001b[0m\u001b[32m}\u001b[0m\u001b[32m, \u001b[0m\u001b[32m{\u001b[0m\u001b[32m\\'keyword\\': \\'leadership\\', \\'source\\': \\'Job Responsibility 3\\', \\'reasoning\\': \"Including \\'leadership\\' demonstrates the applicant\\'s ability to lead and manage projects, particularly in developing new opportunities.\"\u001b[0m\u001b[32m}\u001b[0m\u001b[32m, \u001b[0m\u001b[32m{\u001b[0m\u001b[32m\\'keyword\\': \\'roadmap development\\', \\'source\\': \\'Job Responsibility 3\\', \\'reasoning\\': \"\\'Roadmap development\\' signifies the applicant\\'s skill in planning and outlining future growth, an important part of leading 0 to 1 opportunities.\"\u001b[0m\u001b[32m}\u001b[0m\u001b[32m, \u001b[0m\u001b[32m{\u001b[0m\u001b[32m\\'keyword\\': \\'cross-functional collaboration\\', \\'source\\': \\'Job Responsibility 4\\', \\'reasoning\\': \"\\'Cross-functional collaboration\\' highlights the applicant\\'s ability to work across different departments, crucial for bringing new products and services to market.\"\u001b[0m\u001b[32m}\u001b[0m\u001b[32m, \u001b[0m\u001b[32m{\u001b[0m\u001b[32m\\'keyword\\': \\'product development\\', \\'source\\': \\'Job Responsibility 4\\', \\'reasoning\\': \"Including \\'product development\\' shows the applicant\\'s involvement in creating new products, aligning with the responsibility of introducing new offerings to merchants.\"\u001b[0m\u001b[32m}\u001b[0m\u001b[32m]\u001b[0m\u001b[32m}\u001b[0m\u001b[32m'\u001b[0m\n",
       "    \u001b[1m}\u001b[0m\n",
       "\u001b[1m]\u001b[0m"
      ]
     },
     "execution_count": 69,
     "metadata": {},
     "output_type": "execute_result"
    }
   ],
   "source": [
    "messages = [\n",
    "    {\n",
    "        \"role\": \"system\",\n",
    "        \"content\": \"Please provide recommendations for the resume. Strip away additional formatting.\",\n",
    "    },\n",
    "    {\"role\": \"user\", \"content\": str(page_contents)},\n",
    "    {\n",
    "        \"role\": \"user\",\n",
    "        \"content\": str(response_keyword.json()),\n",
    "    },\n",
    "]\n",
    "\n",
    "\n",
    "messages"
   ]
  },
  {
   "cell_type": "code",
   "execution_count": 70,
   "metadata": {},
   "outputs": [
    {
     "name": "stderr",
     "output_type": "stream",
     "text": [
      "2024-03-31 20:05:53,420:INFO - HTTP Request: POST https://api.openai.com/v1/chat/completions \"HTTP/1.1 200 OK\"\n"
     ]
    }
   ],
   "source": [
    "resume_response = llm_client.chat.completions.create(\n",
    "    model=\"gpt-4-turbo-preview\",\n",
    "    response_model=Recommendations,\n",
    "    messages=messages,\n",
    "    temperature=0.0,\n",
    ")"
   ]
  },
  {
   "cell_type": "code",
   "execution_count": 71,
   "metadata": {},
   "outputs": [
    {
     "data": {
      "text/html": [
       "<pre style=\"white-space:pre;overflow-x:auto;line-height:normal;font-family:Menlo,'DejaVu Sans Mono',consolas,'Courier New',monospace\"></pre>\n"
      ],
      "text/plain": []
     },
     "metadata": {},
     "output_type": "display_data"
    },
    {
     "data": {
      "text/plain": [
       "\n",
       "\u001b[1;35mRecommendations\u001b[0m\u001b[1m(\u001b[0m\n",
       "    \u001b[33mrecommendations\u001b[0m=\u001b[1m[\u001b[0m\n",
       "        \u001b[1;35mRecommendation\u001b[0m\u001b[1m(\u001b[0m\n",
       "            \u001b[33moriginal_sentence\u001b[0m=\u001b[32m'• Optimized the UX for the Data Mangrove sustainability project , enhancing data collection, tracking, and strategic tools for endangered monkey conservation efforts in Costa Rica.'\u001b[0m,\n",
       "            \u001b[33mupdated_sentence\u001b[0m=\u001b[3;35mNone\u001b[0m\n",
       "        \u001b[1m)\u001b[0m,\n",
       "        \u001b[1;35mRecommendation\u001b[0m\u001b[1m(\u001b[0m\n",
       "            \u001b[33moriginal_sentence\u001b[0m=\u001b[32m'• Spearheaded the development of GenAI solutions using Large Language Models for extensive sentiment classification, increasing operational efficiency by ~50% on pilot customer sentiment analysis cases'\u001b[0m,\n",
       "            \u001b[33mupdated_sentence\u001b[0m=\u001b[3;35mNone\u001b[0m\n",
       "        \u001b[1m)\u001b[0m,\n",
       "        \u001b[1;35mRecommendation\u001b[0m\u001b[1m(\u001b[0m\n",
       "            \u001b[33moriginal_sentence\u001b[0m=\u001b[32m'• Pioneered and automated retail analytics using Python and Alteryx on Nielsen IQ point-of-sale \u001b[0m\u001b[32m(\u001b[0m\u001b[32mPOS\u001b[0m\u001b[32m)\u001b[0m\u001b[32m data, saving the practice ~150 hours/month and elevating client Net Promoter Score \u001b[0m\u001b[32m(\u001b[0m\u001b[32mNPS\u001b[0m\u001b[32m)\u001b[0m\u001b[32m to 90% ; Nominated “Star Innovator” among 800+ employees at annual awards'\u001b[0m,\n",
       "            \u001b[33mupdated_sentence\u001b[0m=\u001b[3;35mNone\u001b[0m\n",
       "        \u001b[1m)\u001b[0m,\n",
       "        \u001b[1;35mRecommendation\u001b[0m\u001b[1m(\u001b[0m\n",
       "            \u001b[33moriginal_sentence\u001b[0m=\u001b[32m'• Collaborated and coordinated with multi-disciplinary teams of analysts, consultants, clients , and industry experts to conduct a due diligence on market landscape, competitive pressure and regulatory hurdles across 3 geographies , helping drive decisions for $23B AUM PE client'\u001b[0m,\n",
       "            \u001b[33mupdated_sentence\u001b[0m=\u001b[3;35mNone\u001b[0m\n",
       "        \u001b[1m)\u001b[0m,\n",
       "        \u001b[1;35mRecommendation\u001b[0m\u001b[1m(\u001b[0m\n",
       "            \u001b[33moriginal_sentence\u001b[0m=\u001b[32m'• Coached 100+ new hires in ~5 practice-wide trainings on Excel and Tableau , aiding in a team growth of ~50% within 1.5 years ; organized a 50+ member community for code challenges'\u001b[0m,\n",
       "            \u001b[33mupdated_sentence\u001b[0m=\u001b[3;35mNone\u001b[0m\n",
       "        \u001b[1m)\u001b[0m,\n",
       "        \u001b[1;35mRecommendation\u001b[0m\u001b[1m(\u001b[0m\n",
       "            \u001b[33moriginal_sentence\u001b[0m=\u001b[32m'• Developed and implemented ETL solutions for fragmented bill-of-materials data, leveraging network analysis and clustering tools to propose strategies for turnkey/kitting of components'\u001b[0m,\n",
       "            \u001b[33mupdated_sentence\u001b[0m=\u001b[3;35mNone\u001b[0m\n",
       "        \u001b[1m)\u001b[0m,\n",
       "        \u001b[1;35mRecommendation\u001b[0m\u001b[1m(\u001b[0m\n",
       "            \u001b[33moriginal_sentence\u001b[0m=\u001b[32m'• Steered a team of 6 students in a high impact consulting project, efficiently planning milestones, and guiding the team towards success, and maintained active communication with the client to align project objectives with their needs'\u001b[0m,\n",
       "            \u001b[33mupdated_sentence\u001b[0m=\u001b[3;35mNone\u001b[0m\n",
       "        \u001b[1m)\u001b[0m\n",
       "    \u001b[1m]\u001b[0m\n",
       "\u001b[1m)\u001b[0m"
      ]
     },
     "execution_count": 71,
     "metadata": {},
     "output_type": "execute_result"
    }
   ],
   "source": [
    "resume_response"
   ]
  },
  {
   "cell_type": "code",
   "execution_count": null,
   "metadata": {},
   "outputs": [],
   "source": []
  }
 ],
 "metadata": {
  "kernelspec": {
   "display_name": "Python 3",
   "language": "python",
   "name": "python3"
  },
  "language_info": {
   "codemirror_mode": {
    "name": "ipython",
    "version": 3
   },
   "file_extension": ".py",
   "mimetype": "text/x-python",
   "name": "python",
   "nbconvert_exporter": "python",
   "pygments_lexer": "ipython3",
   "version": "3.11.6"
  }
 },
 "nbformat": 4,
 "nbformat_minor": 2
}
